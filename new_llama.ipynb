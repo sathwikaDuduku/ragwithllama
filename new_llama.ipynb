{
  "nbformat": 4,
  "nbformat_minor": 0,
  "metadata": {
    "colab": {
      "provenance": [],
      "gpuType": "T4"
    },
    "kernelspec": {
      "name": "python3",
      "display_name": "Python 3"
    },
    "language_info": {
      "name": "python"
    },
    "accelerator": "GPU",
    "widgets": {
      "application/vnd.jupyter.widget-state+json": {
        "c9f8a28e669d42afaeb3dfead7354694": {
          "model_module": "@jupyter-widgets/controls",
          "model_name": "HBoxModel",
          "model_module_version": "1.5.0",
          "state": {
            "_dom_classes": [],
            "_model_module": "@jupyter-widgets/controls",
            "_model_module_version": "1.5.0",
            "_model_name": "HBoxModel",
            "_view_count": null,
            "_view_module": "@jupyter-widgets/controls",
            "_view_module_version": "1.5.0",
            "_view_name": "HBoxView",
            "box_style": "",
            "children": [
              "IPY_MODEL_c7be2c3df7c44c7c82026b542b28555e",
              "IPY_MODEL_93e6713298784daf9dcc3b490c181b7f",
              "IPY_MODEL_4864aabd715147909bc5ad5b413e22b6"
            ],
            "layout": "IPY_MODEL_72bc289386a14851a5c7c4bcc6d577c3"
          }
        },
        "c7be2c3df7c44c7c82026b542b28555e": {
          "model_module": "@jupyter-widgets/controls",
          "model_name": "HTMLModel",
          "model_module_version": "1.5.0",
          "state": {
            "_dom_classes": [],
            "_model_module": "@jupyter-widgets/controls",
            "_model_module_version": "1.5.0",
            "_model_name": "HTMLModel",
            "_view_count": null,
            "_view_module": "@jupyter-widgets/controls",
            "_view_module_version": "1.5.0",
            "_view_name": "HTMLView",
            "description": "",
            "description_tooltip": null,
            "layout": "IPY_MODEL_352b5744fc2945e1b4689414c9ed5d2e",
            "placeholder": "​",
            "style": "IPY_MODEL_1ce9efd6f2fe48ccb6dc285939dadddb",
            "value": "Loading checkpoint shards: 100%"
          }
        },
        "93e6713298784daf9dcc3b490c181b7f": {
          "model_module": "@jupyter-widgets/controls",
          "model_name": "FloatProgressModel",
          "model_module_version": "1.5.0",
          "state": {
            "_dom_classes": [],
            "_model_module": "@jupyter-widgets/controls",
            "_model_module_version": "1.5.0",
            "_model_name": "FloatProgressModel",
            "_view_count": null,
            "_view_module": "@jupyter-widgets/controls",
            "_view_module_version": "1.5.0",
            "_view_name": "ProgressView",
            "bar_style": "success",
            "description": "",
            "description_tooltip": null,
            "layout": "IPY_MODEL_fa43bffc24184c70ab7c1a50d9e57e25",
            "max": 2,
            "min": 0,
            "orientation": "horizontal",
            "style": "IPY_MODEL_69920eb292d44fc4aefb6d75246b9a5c",
            "value": 2
          }
        },
        "4864aabd715147909bc5ad5b413e22b6": {
          "model_module": "@jupyter-widgets/controls",
          "model_name": "HTMLModel",
          "model_module_version": "1.5.0",
          "state": {
            "_dom_classes": [],
            "_model_module": "@jupyter-widgets/controls",
            "_model_module_version": "1.5.0",
            "_model_name": "HTMLModel",
            "_view_count": null,
            "_view_module": "@jupyter-widgets/controls",
            "_view_module_version": "1.5.0",
            "_view_name": "HTMLView",
            "description": "",
            "description_tooltip": null,
            "layout": "IPY_MODEL_c2ce591124e248b488efeb2670725b8a",
            "placeholder": "​",
            "style": "IPY_MODEL_0861402c4eb24f22a5228f0950a844ac",
            "value": " 2/2 [00:56&lt;00:00, 26.14s/it]"
          }
        },
        "72bc289386a14851a5c7c4bcc6d577c3": {
          "model_module": "@jupyter-widgets/base",
          "model_name": "LayoutModel",
          "model_module_version": "1.2.0",
          "state": {
            "_model_module": "@jupyter-widgets/base",
            "_model_module_version": "1.2.0",
            "_model_name": "LayoutModel",
            "_view_count": null,
            "_view_module": "@jupyter-widgets/base",
            "_view_module_version": "1.2.0",
            "_view_name": "LayoutView",
            "align_content": null,
            "align_items": null,
            "align_self": null,
            "border": null,
            "bottom": null,
            "display": null,
            "flex": null,
            "flex_flow": null,
            "grid_area": null,
            "grid_auto_columns": null,
            "grid_auto_flow": null,
            "grid_auto_rows": null,
            "grid_column": null,
            "grid_gap": null,
            "grid_row": null,
            "grid_template_areas": null,
            "grid_template_columns": null,
            "grid_template_rows": null,
            "height": null,
            "justify_content": null,
            "justify_items": null,
            "left": null,
            "margin": null,
            "max_height": null,
            "max_width": null,
            "min_height": null,
            "min_width": null,
            "object_fit": null,
            "object_position": null,
            "order": null,
            "overflow": null,
            "overflow_x": null,
            "overflow_y": null,
            "padding": null,
            "right": null,
            "top": null,
            "visibility": null,
            "width": null
          }
        },
        "352b5744fc2945e1b4689414c9ed5d2e": {
          "model_module": "@jupyter-widgets/base",
          "model_name": "LayoutModel",
          "model_module_version": "1.2.0",
          "state": {
            "_model_module": "@jupyter-widgets/base",
            "_model_module_version": "1.2.0",
            "_model_name": "LayoutModel",
            "_view_count": null,
            "_view_module": "@jupyter-widgets/base",
            "_view_module_version": "1.2.0",
            "_view_name": "LayoutView",
            "align_content": null,
            "align_items": null,
            "align_self": null,
            "border": null,
            "bottom": null,
            "display": null,
            "flex": null,
            "flex_flow": null,
            "grid_area": null,
            "grid_auto_columns": null,
            "grid_auto_flow": null,
            "grid_auto_rows": null,
            "grid_column": null,
            "grid_gap": null,
            "grid_row": null,
            "grid_template_areas": null,
            "grid_template_columns": null,
            "grid_template_rows": null,
            "height": null,
            "justify_content": null,
            "justify_items": null,
            "left": null,
            "margin": null,
            "max_height": null,
            "max_width": null,
            "min_height": null,
            "min_width": null,
            "object_fit": null,
            "object_position": null,
            "order": null,
            "overflow": null,
            "overflow_x": null,
            "overflow_y": null,
            "padding": null,
            "right": null,
            "top": null,
            "visibility": null,
            "width": null
          }
        },
        "1ce9efd6f2fe48ccb6dc285939dadddb": {
          "model_module": "@jupyter-widgets/controls",
          "model_name": "DescriptionStyleModel",
          "model_module_version": "1.5.0",
          "state": {
            "_model_module": "@jupyter-widgets/controls",
            "_model_module_version": "1.5.0",
            "_model_name": "DescriptionStyleModel",
            "_view_count": null,
            "_view_module": "@jupyter-widgets/base",
            "_view_module_version": "1.2.0",
            "_view_name": "StyleView",
            "description_width": ""
          }
        },
        "fa43bffc24184c70ab7c1a50d9e57e25": {
          "model_module": "@jupyter-widgets/base",
          "model_name": "LayoutModel",
          "model_module_version": "1.2.0",
          "state": {
            "_model_module": "@jupyter-widgets/base",
            "_model_module_version": "1.2.0",
            "_model_name": "LayoutModel",
            "_view_count": null,
            "_view_module": "@jupyter-widgets/base",
            "_view_module_version": "1.2.0",
            "_view_name": "LayoutView",
            "align_content": null,
            "align_items": null,
            "align_self": null,
            "border": null,
            "bottom": null,
            "display": null,
            "flex": null,
            "flex_flow": null,
            "grid_area": null,
            "grid_auto_columns": null,
            "grid_auto_flow": null,
            "grid_auto_rows": null,
            "grid_column": null,
            "grid_gap": null,
            "grid_row": null,
            "grid_template_areas": null,
            "grid_template_columns": null,
            "grid_template_rows": null,
            "height": null,
            "justify_content": null,
            "justify_items": null,
            "left": null,
            "margin": null,
            "max_height": null,
            "max_width": null,
            "min_height": null,
            "min_width": null,
            "object_fit": null,
            "object_position": null,
            "order": null,
            "overflow": null,
            "overflow_x": null,
            "overflow_y": null,
            "padding": null,
            "right": null,
            "top": null,
            "visibility": null,
            "width": null
          }
        },
        "69920eb292d44fc4aefb6d75246b9a5c": {
          "model_module": "@jupyter-widgets/controls",
          "model_name": "ProgressStyleModel",
          "model_module_version": "1.5.0",
          "state": {
            "_model_module": "@jupyter-widgets/controls",
            "_model_module_version": "1.5.0",
            "_model_name": "ProgressStyleModel",
            "_view_count": null,
            "_view_module": "@jupyter-widgets/base",
            "_view_module_version": "1.2.0",
            "_view_name": "StyleView",
            "bar_color": null,
            "description_width": ""
          }
        },
        "c2ce591124e248b488efeb2670725b8a": {
          "model_module": "@jupyter-widgets/base",
          "model_name": "LayoutModel",
          "model_module_version": "1.2.0",
          "state": {
            "_model_module": "@jupyter-widgets/base",
            "_model_module_version": "1.2.0",
            "_model_name": "LayoutModel",
            "_view_count": null,
            "_view_module": "@jupyter-widgets/base",
            "_view_module_version": "1.2.0",
            "_view_name": "LayoutView",
            "align_content": null,
            "align_items": null,
            "align_self": null,
            "border": null,
            "bottom": null,
            "display": null,
            "flex": null,
            "flex_flow": null,
            "grid_area": null,
            "grid_auto_columns": null,
            "grid_auto_flow": null,
            "grid_auto_rows": null,
            "grid_column": null,
            "grid_gap": null,
            "grid_row": null,
            "grid_template_areas": null,
            "grid_template_columns": null,
            "grid_template_rows": null,
            "height": null,
            "justify_content": null,
            "justify_items": null,
            "left": null,
            "margin": null,
            "max_height": null,
            "max_width": null,
            "min_height": null,
            "min_width": null,
            "object_fit": null,
            "object_position": null,
            "order": null,
            "overflow": null,
            "overflow_x": null,
            "overflow_y": null,
            "padding": null,
            "right": null,
            "top": null,
            "visibility": null,
            "width": null
          }
        },
        "0861402c4eb24f22a5228f0950a844ac": {
          "model_module": "@jupyter-widgets/controls",
          "model_name": "DescriptionStyleModel",
          "model_module_version": "1.5.0",
          "state": {
            "_model_module": "@jupyter-widgets/controls",
            "_model_module_version": "1.5.0",
            "_model_name": "DescriptionStyleModel",
            "_view_count": null,
            "_view_module": "@jupyter-widgets/base",
            "_view_module_version": "1.2.0",
            "_view_name": "StyleView",
            "description_width": ""
          }
        }
      }
    }
  },
  "cells": [
    {
      "cell_type": "code",
      "execution_count": null,
      "metadata": {
        "colab": {
          "base_uri": "https://localhost:8080/"
        },
        "id": "5ve86gZn-QKO",
        "outputId": "30174763-498a-45b9-bb6c-7f6907cc5d43"
      },
      "outputs": [
        {
          "output_type": "stream",
          "name": "stdout",
          "text": [
            "Collecting pypdf\n",
            "  Downloading pypdf-4.2.0-py3-none-any.whl (290 kB)\n",
            "\u001b[?25l     \u001b[90m━━━━━━━━━━━━━━━━━━━━━━━━━━━━━━━━━━━━━━━━\u001b[0m \u001b[32m0.0/290.4 kB\u001b[0m \u001b[31m?\u001b[0m eta \u001b[36m-:--:--\u001b[0m\r\u001b[2K     \u001b[91m━━━━━━━━━━━━━━━━━━━━━━━━━━━━━━━\u001b[0m\u001b[90m╺\u001b[0m\u001b[90m━━━━━━━━\u001b[0m \u001b[32m225.3/290.4 kB\u001b[0m \u001b[31m6.7 MB/s\u001b[0m eta \u001b[36m0:00:01\u001b[0m\r\u001b[2K     \u001b[90m━━━━━━━━━━━━━━━━━━━━━━━━━━━━━━━━━━━━━━━━\u001b[0m \u001b[32m290.4/290.4 kB\u001b[0m \u001b[31m6.2 MB/s\u001b[0m eta \u001b[36m0:00:00\u001b[0m\n",
            "\u001b[?25hRequirement already satisfied: typing_extensions>=4.0 in /usr/local/lib/python3.10/dist-packages (from pypdf) (4.12.2)\n",
            "Installing collected packages: pypdf\n",
            "Successfully installed pypdf-4.2.0\n"
          ]
        }
      ],
      "source": [
        "!pip install pypdf"
      ]
    },
    {
      "cell_type": "code",
      "source": [
        "!pip install -q transformers einops accelerate langchain bitsandbytes"
      ],
      "metadata": {
        "colab": {
          "base_uri": "https://localhost:8080/"
        },
        "id": "8bymSvAZ-kRc",
        "outputId": "2316d662-c650-4942-998a-5647b1cac965"
      },
      "execution_count": null,
      "outputs": [
        {
          "output_type": "stream",
          "name": "stdout",
          "text": [
            "\u001b[2K     \u001b[90m━━━━━━━━━━━━━━━━━━━━━━━━━━━━━━━━━━━━━━━━\u001b[0m \u001b[32m43.2/43.2 kB\u001b[0m \u001b[31m2.2 MB/s\u001b[0m eta \u001b[36m0:00:00\u001b[0m\n",
            "\u001b[2K     \u001b[90m━━━━━━━━━━━━━━━━━━━━━━━━━━━━━━━━━━━━━━━━\u001b[0m \u001b[32m309.4/309.4 kB\u001b[0m \u001b[31m7.2 MB/s\u001b[0m eta \u001b[36m0:00:00\u001b[0m\n",
            "\u001b[2K     \u001b[90m━━━━━━━━━━━━━━━━━━━━━━━━━━━━━━━━━━━━━━━━\u001b[0m \u001b[32m974.0/974.0 kB\u001b[0m \u001b[31m11.7 MB/s\u001b[0m eta \u001b[36m0:00:00\u001b[0m\n",
            "\u001b[2K     \u001b[90m━━━━━━━━━━━━━━━━━━━━━━━━━━━━━━━━━━━━━━━━\u001b[0m \u001b[32m119.8/119.8 MB\u001b[0m \u001b[31m7.4 MB/s\u001b[0m eta \u001b[36m0:00:00\u001b[0m\n",
            "\u001b[2K     \u001b[90m━━━━━━━━━━━━━━━━━━━━━━━━━━━━━━━━━━━━━━━━\u001b[0m \u001b[32m314.7/314.7 kB\u001b[0m \u001b[31m34.3 MB/s\u001b[0m eta \u001b[36m0:00:00\u001b[0m\n",
            "\u001b[2K     \u001b[90m━━━━━━━━━━━━━━━━━━━━━━━━━━━━━━━━━━━━━━━━\u001b[0m \u001b[32m125.2/125.2 kB\u001b[0m \u001b[31m18.7 MB/s\u001b[0m eta \u001b[36m0:00:00\u001b[0m\n",
            "\u001b[2K     \u001b[90m━━━━━━━━━━━━━━━━━━━━━━━━━━━━━━━━━━━━━━━━\u001b[0m \u001b[32m53.0/53.0 kB\u001b[0m \u001b[31m7.8 MB/s\u001b[0m eta \u001b[36m0:00:00\u001b[0m\n",
            "\u001b[2K     \u001b[90m━━━━━━━━━━━━━━━━━━━━━━━━━━━━━━━━━━━━━━━━\u001b[0m \u001b[32m142.7/142.7 kB\u001b[0m \u001b[31m16.9 MB/s\u001b[0m eta \u001b[36m0:00:00\u001b[0m\n",
            "\u001b[2K     \u001b[90m━━━━━━━━━━━━━━━━━━━━━━━━━━━━━━━━━━━━━━━━\u001b[0m \u001b[32m21.3/21.3 MB\u001b[0m \u001b[31m75.2 MB/s\u001b[0m eta \u001b[36m0:00:00\u001b[0m\n",
            "\u001b[?25h"
          ]
        }
      ]
    },
    {
      "cell_type": "code",
      "source": [
        "!pip install llama_index\n",
        "!pip install llama-index-llms-huggingface"
      ],
      "metadata": {
        "colab": {
          "base_uri": "https://localhost:8080/"
        },
        "id": "34pi7I8Z-mw4",
        "outputId": "e329d6da-b597-4abb-ebca-df702d451488"
      },
      "execution_count": null,
      "outputs": [
        {
          "output_type": "stream",
          "name": "stdout",
          "text": [
            "Collecting llama_index\n",
            "  Downloading llama_index-0.10.44-py3-none-any.whl (6.8 kB)\n",
            "Collecting llama-index-agent-openai<0.3.0,>=0.1.4 (from llama_index)\n",
            "  Downloading llama_index_agent_openai-0.2.7-py3-none-any.whl (12 kB)\n",
            "Collecting llama-index-cli<0.2.0,>=0.1.2 (from llama_index)\n",
            "  Downloading llama_index_cli-0.1.12-py3-none-any.whl (26 kB)\n",
            "Collecting llama-index-core==0.10.44 (from llama_index)\n",
            "  Downloading llama_index_core-0.10.44-py3-none-any.whl (15.4 MB)\n",
            "\u001b[2K     \u001b[90m━━━━━━━━━━━━━━━━━━━━━━━━━━━━━━━━━━━━━━━━\u001b[0m \u001b[32m15.4/15.4 MB\u001b[0m \u001b[31m86.9 MB/s\u001b[0m eta \u001b[36m0:00:00\u001b[0m\n",
            "\u001b[?25hCollecting llama-index-embeddings-openai<0.2.0,>=0.1.5 (from llama_index)\n",
            "  Downloading llama_index_embeddings_openai-0.1.10-py3-none-any.whl (6.2 kB)\n",
            "Collecting llama-index-indices-managed-llama-cloud<0.2.0,>=0.1.2 (from llama_index)\n",
            "  Downloading llama_index_indices_managed_llama_cloud-0.1.6-py3-none-any.whl (6.7 kB)\n",
            "Collecting llama-index-legacy<0.10.0,>=0.9.48 (from llama_index)\n",
            "  Downloading llama_index_legacy-0.9.48-py3-none-any.whl (2.0 MB)\n",
            "\u001b[2K     \u001b[90m━━━━━━━━━━━━━━━━━━━━━━━━━━━━━━━━━━━━━━━━\u001b[0m \u001b[32m2.0/2.0 MB\u001b[0m \u001b[31m87.6 MB/s\u001b[0m eta \u001b[36m0:00:00\u001b[0m\n",
            "\u001b[?25hCollecting llama-index-llms-openai<0.2.0,>=0.1.13 (from llama_index)\n",
            "  Downloading llama_index_llms_openai-0.1.22-py3-none-any.whl (11 kB)\n",
            "Collecting llama-index-multi-modal-llms-openai<0.2.0,>=0.1.3 (from llama_index)\n",
            "  Downloading llama_index_multi_modal_llms_openai-0.1.6-py3-none-any.whl (5.8 kB)\n",
            "Collecting llama-index-program-openai<0.2.0,>=0.1.3 (from llama_index)\n",
            "  Downloading llama_index_program_openai-0.1.6-py3-none-any.whl (5.2 kB)\n",
            "Collecting llama-index-question-gen-openai<0.2.0,>=0.1.2 (from llama_index)\n",
            "  Downloading llama_index_question_gen_openai-0.1.3-py3-none-any.whl (2.9 kB)\n",
            "Collecting llama-index-readers-file<0.2.0,>=0.1.4 (from llama_index)\n",
            "  Downloading llama_index_readers_file-0.1.25-py3-none-any.whl (37 kB)\n",
            "Collecting llama-index-readers-llama-parse<0.2.0,>=0.1.2 (from llama_index)\n",
            "  Downloading llama_index_readers_llama_parse-0.1.4-py3-none-any.whl (2.5 kB)\n",
            "Requirement already satisfied: PyYAML>=6.0.1 in /usr/local/lib/python3.10/dist-packages (from llama-index-core==0.10.44->llama_index) (6.0.1)\n",
            "Requirement already satisfied: SQLAlchemy[asyncio]>=1.4.49 in /usr/local/lib/python3.10/dist-packages (from llama-index-core==0.10.44->llama_index) (2.0.30)\n",
            "Requirement already satisfied: aiohttp<4.0.0,>=3.8.6 in /usr/local/lib/python3.10/dist-packages (from llama-index-core==0.10.44->llama_index) (3.9.5)\n",
            "Collecting dataclasses-json (from llama-index-core==0.10.44->llama_index)\n",
            "  Downloading dataclasses_json-0.6.7-py3-none-any.whl (28 kB)\n",
            "Collecting deprecated>=1.2.9.3 (from llama-index-core==0.10.44->llama_index)\n",
            "  Downloading Deprecated-1.2.14-py2.py3-none-any.whl (9.6 kB)\n",
            "Collecting dirtyjson<2.0.0,>=1.0.8 (from llama-index-core==0.10.44->llama_index)\n",
            "  Downloading dirtyjson-1.0.8-py3-none-any.whl (25 kB)\n",
            "Requirement already satisfied: fsspec>=2023.5.0 in /usr/local/lib/python3.10/dist-packages (from llama-index-core==0.10.44->llama_index) (2023.6.0)\n",
            "Collecting httpx (from llama-index-core==0.10.44->llama_index)\n",
            "  Downloading httpx-0.27.0-py3-none-any.whl (75 kB)\n",
            "\u001b[2K     \u001b[90m━━━━━━━━━━━━━━━━━━━━━━━━━━━━━━━━━━━━━━━━\u001b[0m \u001b[32m75.6/75.6 kB\u001b[0m \u001b[31m11.9 MB/s\u001b[0m eta \u001b[36m0:00:00\u001b[0m\n",
            "\u001b[?25hCollecting llamaindex-py-client<0.2.0,>=0.1.18 (from llama-index-core==0.10.44->llama_index)\n",
            "  Downloading llamaindex_py_client-0.1.19-py3-none-any.whl (141 kB)\n",
            "\u001b[2K     \u001b[90m━━━━━━━━━━━━━━━━━━━━━━━━━━━━━━━━━━━━━━━━\u001b[0m \u001b[32m141.9/141.9 kB\u001b[0m \u001b[31m22.4 MB/s\u001b[0m eta \u001b[36m0:00:00\u001b[0m\n",
            "\u001b[?25hRequirement already satisfied: nest-asyncio<2.0.0,>=1.5.8 in /usr/local/lib/python3.10/dist-packages (from llama-index-core==0.10.44->llama_index) (1.6.0)\n",
            "Requirement already satisfied: networkx>=3.0 in /usr/local/lib/python3.10/dist-packages (from llama-index-core==0.10.44->llama_index) (3.3)\n",
            "Requirement already satisfied: nltk<4.0.0,>=3.8.1 in /usr/local/lib/python3.10/dist-packages (from llama-index-core==0.10.44->llama_index) (3.8.1)\n",
            "Requirement already satisfied: numpy in /usr/local/lib/python3.10/dist-packages (from llama-index-core==0.10.44->llama_index) (1.25.2)\n",
            "Collecting openai>=1.1.0 (from llama-index-core==0.10.44->llama_index)\n",
            "  Downloading openai-1.34.0-py3-none-any.whl (325 kB)\n",
            "\u001b[2K     \u001b[90m━━━━━━━━━━━━━━━━━━━━━━━━━━━━━━━━━━━━━━━━\u001b[0m \u001b[32m325.5/325.5 kB\u001b[0m \u001b[31m37.4 MB/s\u001b[0m eta \u001b[36m0:00:00\u001b[0m\n",
            "\u001b[?25hRequirement already satisfied: pandas in /usr/local/lib/python3.10/dist-packages (from llama-index-core==0.10.44->llama_index) (2.0.3)\n",
            "Requirement already satisfied: pillow>=9.0.0 in /usr/local/lib/python3.10/dist-packages (from llama-index-core==0.10.44->llama_index) (9.4.0)\n",
            "Requirement already satisfied: requests>=2.31.0 in /usr/local/lib/python3.10/dist-packages (from llama-index-core==0.10.44->llama_index) (2.31.0)\n",
            "Requirement already satisfied: tenacity<9.0.0,>=8.2.0 in /usr/local/lib/python3.10/dist-packages (from llama-index-core==0.10.44->llama_index) (8.3.0)\n",
            "Collecting tiktoken>=0.3.3 (from llama-index-core==0.10.44->llama_index)\n",
            "  Downloading tiktoken-0.7.0-cp310-cp310-manylinux_2_17_x86_64.manylinux2014_x86_64.whl (1.1 MB)\n",
            "\u001b[2K     \u001b[90m━━━━━━━━━━━━━━━━━━━━━━━━━━━━━━━━━━━━━━━━\u001b[0m \u001b[32m1.1/1.1 MB\u001b[0m \u001b[31m60.0 MB/s\u001b[0m eta \u001b[36m0:00:00\u001b[0m\n",
            "\u001b[?25hRequirement already satisfied: tqdm<5.0.0,>=4.66.1 in /usr/local/lib/python3.10/dist-packages (from llama-index-core==0.10.44->llama_index) (4.66.4)\n",
            "Requirement already satisfied: typing-extensions>=4.5.0 in /usr/local/lib/python3.10/dist-packages (from llama-index-core==0.10.44->llama_index) (4.12.2)\n",
            "Collecting typing-inspect>=0.8.0 (from llama-index-core==0.10.44->llama_index)\n",
            "  Downloading typing_inspect-0.9.0-py3-none-any.whl (8.8 kB)\n",
            "Requirement already satisfied: wrapt in /usr/local/lib/python3.10/dist-packages (from llama-index-core==0.10.44->llama_index) (1.14.1)\n",
            "Requirement already satisfied: beautifulsoup4<5.0.0,>=4.12.3 in /usr/local/lib/python3.10/dist-packages (from llama-index-readers-file<0.2.0,>=0.1.4->llama_index) (4.12.3)\n",
            "Requirement already satisfied: pypdf<5.0.0,>=4.0.1 in /usr/local/lib/python3.10/dist-packages (from llama-index-readers-file<0.2.0,>=0.1.4->llama_index) (4.2.0)\n",
            "Collecting striprtf<0.0.27,>=0.0.26 (from llama-index-readers-file<0.2.0,>=0.1.4->llama_index)\n",
            "  Downloading striprtf-0.0.26-py3-none-any.whl (6.9 kB)\n",
            "Collecting llama-parse<0.5.0,>=0.4.0 (from llama-index-readers-llama-parse<0.2.0,>=0.1.2->llama_index)\n",
            "  Downloading llama_parse-0.4.4-py3-none-any.whl (8.0 kB)\n",
            "Requirement already satisfied: aiosignal>=1.1.2 in /usr/local/lib/python3.10/dist-packages (from aiohttp<4.0.0,>=3.8.6->llama-index-core==0.10.44->llama_index) (1.3.1)\n",
            "Requirement already satisfied: attrs>=17.3.0 in /usr/local/lib/python3.10/dist-packages (from aiohttp<4.0.0,>=3.8.6->llama-index-core==0.10.44->llama_index) (23.2.0)\n",
            "Requirement already satisfied: frozenlist>=1.1.1 in /usr/local/lib/python3.10/dist-packages (from aiohttp<4.0.0,>=3.8.6->llama-index-core==0.10.44->llama_index) (1.4.1)\n",
            "Requirement already satisfied: multidict<7.0,>=4.5 in /usr/local/lib/python3.10/dist-packages (from aiohttp<4.0.0,>=3.8.6->llama-index-core==0.10.44->llama_index) (6.0.5)\n",
            "Requirement already satisfied: yarl<2.0,>=1.0 in /usr/local/lib/python3.10/dist-packages (from aiohttp<4.0.0,>=3.8.6->llama-index-core==0.10.44->llama_index) (1.9.4)\n",
            "Requirement already satisfied: async-timeout<5.0,>=4.0 in /usr/local/lib/python3.10/dist-packages (from aiohttp<4.0.0,>=3.8.6->llama-index-core==0.10.44->llama_index) (4.0.3)\n",
            "Requirement already satisfied: soupsieve>1.2 in /usr/local/lib/python3.10/dist-packages (from beautifulsoup4<5.0.0,>=4.12.3->llama-index-readers-file<0.2.0,>=0.1.4->llama_index) (2.5)\n",
            "Requirement already satisfied: pydantic>=1.10 in /usr/local/lib/python3.10/dist-packages (from llamaindex-py-client<0.2.0,>=0.1.18->llama-index-core==0.10.44->llama_index) (2.7.3)\n",
            "Requirement already satisfied: anyio in /usr/local/lib/python3.10/dist-packages (from httpx->llama-index-core==0.10.44->llama_index) (3.7.1)\n",
            "Requirement already satisfied: certifi in /usr/local/lib/python3.10/dist-packages (from httpx->llama-index-core==0.10.44->llama_index) (2024.6.2)\n",
            "Collecting httpcore==1.* (from httpx->llama-index-core==0.10.44->llama_index)\n",
            "  Downloading httpcore-1.0.5-py3-none-any.whl (77 kB)\n",
            "\u001b[2K     \u001b[90m━━━━━━━━━━━━━━━━━━━━━━━━━━━━━━━━━━━━━━━━\u001b[0m \u001b[32m77.9/77.9 kB\u001b[0m \u001b[31m12.3 MB/s\u001b[0m eta \u001b[36m0:00:00\u001b[0m\n",
            "\u001b[?25hRequirement already satisfied: idna in /usr/local/lib/python3.10/dist-packages (from httpx->llama-index-core==0.10.44->llama_index) (3.7)\n",
            "Requirement already satisfied: sniffio in /usr/local/lib/python3.10/dist-packages (from httpx->llama-index-core==0.10.44->llama_index) (1.3.1)\n",
            "Collecting h11<0.15,>=0.13 (from httpcore==1.*->httpx->llama-index-core==0.10.44->llama_index)\n",
            "  Downloading h11-0.14.0-py3-none-any.whl (58 kB)\n",
            "\u001b[2K     \u001b[90m━━━━━━━━━━━━━━━━━━━━━━━━━━━━━━━━━━━━━━━━\u001b[0m \u001b[32m58.3/58.3 kB\u001b[0m \u001b[31m10.0 MB/s\u001b[0m eta \u001b[36m0:00:00\u001b[0m\n",
            "\u001b[?25hRequirement already satisfied: click in /usr/local/lib/python3.10/dist-packages (from nltk<4.0.0,>=3.8.1->llama-index-core==0.10.44->llama_index) (8.1.7)\n",
            "Requirement already satisfied: joblib in /usr/local/lib/python3.10/dist-packages (from nltk<4.0.0,>=3.8.1->llama-index-core==0.10.44->llama_index) (1.4.2)\n",
            "Requirement already satisfied: regex>=2021.8.3 in /usr/local/lib/python3.10/dist-packages (from nltk<4.0.0,>=3.8.1->llama-index-core==0.10.44->llama_index) (2024.5.15)\n",
            "Requirement already satisfied: distro<2,>=1.7.0 in /usr/lib/python3/dist-packages (from openai>=1.1.0->llama-index-core==0.10.44->llama_index) (1.7.0)\n",
            "Requirement already satisfied: charset-normalizer<4,>=2 in /usr/local/lib/python3.10/dist-packages (from requests>=2.31.0->llama-index-core==0.10.44->llama_index) (3.3.2)\n",
            "Requirement already satisfied: urllib3<3,>=1.21.1 in /usr/local/lib/python3.10/dist-packages (from requests>=2.31.0->llama-index-core==0.10.44->llama_index) (2.0.7)\n",
            "Requirement already satisfied: greenlet!=0.4.17 in /usr/local/lib/python3.10/dist-packages (from SQLAlchemy[asyncio]>=1.4.49->llama-index-core==0.10.44->llama_index) (3.0.3)\n",
            "Collecting mypy-extensions>=0.3.0 (from typing-inspect>=0.8.0->llama-index-core==0.10.44->llama_index)\n",
            "  Downloading mypy_extensions-1.0.0-py3-none-any.whl (4.7 kB)\n",
            "Collecting marshmallow<4.0.0,>=3.18.0 (from dataclasses-json->llama-index-core==0.10.44->llama_index)\n",
            "  Downloading marshmallow-3.21.3-py3-none-any.whl (49 kB)\n",
            "\u001b[2K     \u001b[90m━━━━━━━━━━━━━━━━━━━━━━━━━━━━━━━━━━━━━━━━\u001b[0m \u001b[32m49.2/49.2 kB\u001b[0m \u001b[31m7.0 MB/s\u001b[0m eta \u001b[36m0:00:00\u001b[0m\n",
            "\u001b[?25hRequirement already satisfied: python-dateutil>=2.8.2 in /usr/local/lib/python3.10/dist-packages (from pandas->llama-index-core==0.10.44->llama_index) (2.8.2)\n",
            "Requirement already satisfied: pytz>=2020.1 in /usr/local/lib/python3.10/dist-packages (from pandas->llama-index-core==0.10.44->llama_index) (2023.4)\n",
            "Requirement already satisfied: tzdata>=2022.1 in /usr/local/lib/python3.10/dist-packages (from pandas->llama-index-core==0.10.44->llama_index) (2024.1)\n",
            "Requirement already satisfied: exceptiongroup in /usr/local/lib/python3.10/dist-packages (from anyio->httpx->llama-index-core==0.10.44->llama_index) (1.2.1)\n",
            "Requirement already satisfied: packaging>=17.0 in /usr/local/lib/python3.10/dist-packages (from marshmallow<4.0.0,>=3.18.0->dataclasses-json->llama-index-core==0.10.44->llama_index) (23.2)\n",
            "Requirement already satisfied: annotated-types>=0.4.0 in /usr/local/lib/python3.10/dist-packages (from pydantic>=1.10->llamaindex-py-client<0.2.0,>=0.1.18->llama-index-core==0.10.44->llama_index) (0.7.0)\n",
            "Requirement already satisfied: pydantic-core==2.18.4 in /usr/local/lib/python3.10/dist-packages (from pydantic>=1.10->llamaindex-py-client<0.2.0,>=0.1.18->llama-index-core==0.10.44->llama_index) (2.18.4)\n",
            "Requirement already satisfied: six>=1.5 in /usr/local/lib/python3.10/dist-packages (from python-dateutil>=2.8.2->pandas->llama-index-core==0.10.44->llama_index) (1.16.0)\n",
            "Installing collected packages: striprtf, dirtyjson, mypy-extensions, marshmallow, h11, deprecated, typing-inspect, tiktoken, httpcore, httpx, dataclasses-json, openai, llamaindex-py-client, llama-index-legacy, llama-index-core, llama-parse, llama-index-readers-file, llama-index-llms-openai, llama-index-indices-managed-llama-cloud, llama-index-embeddings-openai, llama-index-readers-llama-parse, llama-index-multi-modal-llms-openai, llama-index-cli, llama-index-agent-openai, llama-index-program-openai, llama-index-question-gen-openai, llama_index\n",
            "Successfully installed dataclasses-json-0.6.7 deprecated-1.2.14 dirtyjson-1.0.8 h11-0.14.0 httpcore-1.0.5 httpx-0.27.0 llama-index-agent-openai-0.2.7 llama-index-cli-0.1.12 llama-index-core-0.10.44 llama-index-embeddings-openai-0.1.10 llama-index-indices-managed-llama-cloud-0.1.6 llama-index-legacy-0.9.48 llama-index-llms-openai-0.1.22 llama-index-multi-modal-llms-openai-0.1.6 llama-index-program-openai-0.1.6 llama-index-question-gen-openai-0.1.3 llama-index-readers-file-0.1.25 llama-index-readers-llama-parse-0.1.4 llama-parse-0.4.4 llama_index-0.10.44 llamaindex-py-client-0.1.19 marshmallow-3.21.3 mypy-extensions-1.0.0 openai-1.34.0 striprtf-0.0.26 tiktoken-0.7.0 typing-inspect-0.9.0\n",
            "Collecting llama-index-llms-huggingface\n",
            "  Downloading llama_index_llms_huggingface-0.2.3-py3-none-any.whl (10 kB)\n",
            "Requirement already satisfied: huggingface-hub<0.24.0,>=0.23.0 in /usr/local/lib/python3.10/dist-packages (from llama-index-llms-huggingface) (0.23.3)\n",
            "Requirement already satisfied: llama-index-core<0.11.0,>=0.10.41 in /usr/local/lib/python3.10/dist-packages (from llama-index-llms-huggingface) (0.10.44)\n",
            "Collecting text-generation<0.8.0,>=0.7.0 (from llama-index-llms-huggingface)\n",
            "  Downloading text_generation-0.7.0-py3-none-any.whl (12 kB)\n",
            "Requirement already satisfied: torch<3.0.0,>=2.1.2 in /usr/local/lib/python3.10/dist-packages (from llama-index-llms-huggingface) (2.3.0+cu121)\n",
            "Requirement already satisfied: transformers[torch]<5.0.0,>=4.37.0 in /usr/local/lib/python3.10/dist-packages (from llama-index-llms-huggingface) (4.41.2)\n",
            "Requirement already satisfied: filelock in /usr/local/lib/python3.10/dist-packages (from huggingface-hub<0.24.0,>=0.23.0->llama-index-llms-huggingface) (3.14.0)\n",
            "Requirement already satisfied: fsspec>=2023.5.0 in /usr/local/lib/python3.10/dist-packages (from huggingface-hub<0.24.0,>=0.23.0->llama-index-llms-huggingface) (2023.6.0)\n",
            "Requirement already satisfied: packaging>=20.9 in /usr/local/lib/python3.10/dist-packages (from huggingface-hub<0.24.0,>=0.23.0->llama-index-llms-huggingface) (23.2)\n",
            "Requirement already satisfied: pyyaml>=5.1 in /usr/local/lib/python3.10/dist-packages (from huggingface-hub<0.24.0,>=0.23.0->llama-index-llms-huggingface) (6.0.1)\n",
            "Requirement already satisfied: requests in /usr/local/lib/python3.10/dist-packages (from huggingface-hub<0.24.0,>=0.23.0->llama-index-llms-huggingface) (2.31.0)\n",
            "Requirement already satisfied: tqdm>=4.42.1 in /usr/local/lib/python3.10/dist-packages (from huggingface-hub<0.24.0,>=0.23.0->llama-index-llms-huggingface) (4.66.4)\n",
            "Requirement already satisfied: typing-extensions>=3.7.4.3 in /usr/local/lib/python3.10/dist-packages (from huggingface-hub<0.24.0,>=0.23.0->llama-index-llms-huggingface) (4.12.2)\n",
            "Requirement already satisfied: SQLAlchemy[asyncio]>=1.4.49 in /usr/local/lib/python3.10/dist-packages (from llama-index-core<0.11.0,>=0.10.41->llama-index-llms-huggingface) (2.0.30)\n",
            "Requirement already satisfied: aiohttp<4.0.0,>=3.8.6 in /usr/local/lib/python3.10/dist-packages (from llama-index-core<0.11.0,>=0.10.41->llama-index-llms-huggingface) (3.9.5)\n",
            "Requirement already satisfied: dataclasses-json in /usr/local/lib/python3.10/dist-packages (from llama-index-core<0.11.0,>=0.10.41->llama-index-llms-huggingface) (0.6.7)\n",
            "Requirement already satisfied: deprecated>=1.2.9.3 in /usr/local/lib/python3.10/dist-packages (from llama-index-core<0.11.0,>=0.10.41->llama-index-llms-huggingface) (1.2.14)\n",
            "Requirement already satisfied: dirtyjson<2.0.0,>=1.0.8 in /usr/local/lib/python3.10/dist-packages (from llama-index-core<0.11.0,>=0.10.41->llama-index-llms-huggingface) (1.0.8)\n",
            "Requirement already satisfied: httpx in /usr/local/lib/python3.10/dist-packages (from llama-index-core<0.11.0,>=0.10.41->llama-index-llms-huggingface) (0.27.0)\n",
            "Requirement already satisfied: llamaindex-py-client<0.2.0,>=0.1.18 in /usr/local/lib/python3.10/dist-packages (from llama-index-core<0.11.0,>=0.10.41->llama-index-llms-huggingface) (0.1.19)\n",
            "Requirement already satisfied: nest-asyncio<2.0.0,>=1.5.8 in /usr/local/lib/python3.10/dist-packages (from llama-index-core<0.11.0,>=0.10.41->llama-index-llms-huggingface) (1.6.0)\n",
            "Requirement already satisfied: networkx>=3.0 in /usr/local/lib/python3.10/dist-packages (from llama-index-core<0.11.0,>=0.10.41->llama-index-llms-huggingface) (3.3)\n",
            "Requirement already satisfied: nltk<4.0.0,>=3.8.1 in /usr/local/lib/python3.10/dist-packages (from llama-index-core<0.11.0,>=0.10.41->llama-index-llms-huggingface) (3.8.1)\n",
            "Requirement already satisfied: numpy in /usr/local/lib/python3.10/dist-packages (from llama-index-core<0.11.0,>=0.10.41->llama-index-llms-huggingface) (1.25.2)\n",
            "Requirement already satisfied: openai>=1.1.0 in /usr/local/lib/python3.10/dist-packages (from llama-index-core<0.11.0,>=0.10.41->llama-index-llms-huggingface) (1.34.0)\n",
            "Requirement already satisfied: pandas in /usr/local/lib/python3.10/dist-packages (from llama-index-core<0.11.0,>=0.10.41->llama-index-llms-huggingface) (2.0.3)\n",
            "Requirement already satisfied: pillow>=9.0.0 in /usr/local/lib/python3.10/dist-packages (from llama-index-core<0.11.0,>=0.10.41->llama-index-llms-huggingface) (9.4.0)\n",
            "Requirement already satisfied: tenacity<9.0.0,>=8.2.0 in /usr/local/lib/python3.10/dist-packages (from llama-index-core<0.11.0,>=0.10.41->llama-index-llms-huggingface) (8.3.0)\n",
            "Requirement already satisfied: tiktoken>=0.3.3 in /usr/local/lib/python3.10/dist-packages (from llama-index-core<0.11.0,>=0.10.41->llama-index-llms-huggingface) (0.7.0)\n",
            "Requirement already satisfied: typing-inspect>=0.8.0 in /usr/local/lib/python3.10/dist-packages (from llama-index-core<0.11.0,>=0.10.41->llama-index-llms-huggingface) (0.9.0)\n",
            "Requirement already satisfied: wrapt in /usr/local/lib/python3.10/dist-packages (from llama-index-core<0.11.0,>=0.10.41->llama-index-llms-huggingface) (1.14.1)\n",
            "Requirement already satisfied: pydantic<3,>2 in /usr/local/lib/python3.10/dist-packages (from text-generation<0.8.0,>=0.7.0->llama-index-llms-huggingface) (2.7.3)\n",
            "Requirement already satisfied: sympy in /usr/local/lib/python3.10/dist-packages (from torch<3.0.0,>=2.1.2->llama-index-llms-huggingface) (1.12.1)\n",
            "Requirement already satisfied: jinja2 in /usr/local/lib/python3.10/dist-packages (from torch<3.0.0,>=2.1.2->llama-index-llms-huggingface) (3.1.4)\n",
            "Requirement already satisfied: nvidia-cuda-nvrtc-cu12==12.1.105 in /usr/local/lib/python3.10/dist-packages (from torch<3.0.0,>=2.1.2->llama-index-llms-huggingface) (12.1.105)\n",
            "Requirement already satisfied: nvidia-cuda-runtime-cu12==12.1.105 in /usr/local/lib/python3.10/dist-packages (from torch<3.0.0,>=2.1.2->llama-index-llms-huggingface) (12.1.105)\n",
            "Requirement already satisfied: nvidia-cuda-cupti-cu12==12.1.105 in /usr/local/lib/python3.10/dist-packages (from torch<3.0.0,>=2.1.2->llama-index-llms-huggingface) (12.1.105)\n",
            "Requirement already satisfied: nvidia-cudnn-cu12==8.9.2.26 in /usr/local/lib/python3.10/dist-packages (from torch<3.0.0,>=2.1.2->llama-index-llms-huggingface) (8.9.2.26)\n",
            "Requirement already satisfied: nvidia-cublas-cu12==12.1.3.1 in /usr/local/lib/python3.10/dist-packages (from torch<3.0.0,>=2.1.2->llama-index-llms-huggingface) (12.1.3.1)\n",
            "Requirement already satisfied: nvidia-cufft-cu12==11.0.2.54 in /usr/local/lib/python3.10/dist-packages (from torch<3.0.0,>=2.1.2->llama-index-llms-huggingface) (11.0.2.54)\n",
            "Requirement already satisfied: nvidia-curand-cu12==10.3.2.106 in /usr/local/lib/python3.10/dist-packages (from torch<3.0.0,>=2.1.2->llama-index-llms-huggingface) (10.3.2.106)\n",
            "Requirement already satisfied: nvidia-cusolver-cu12==11.4.5.107 in /usr/local/lib/python3.10/dist-packages (from torch<3.0.0,>=2.1.2->llama-index-llms-huggingface) (11.4.5.107)\n",
            "Requirement already satisfied: nvidia-cusparse-cu12==12.1.0.106 in /usr/local/lib/python3.10/dist-packages (from torch<3.0.0,>=2.1.2->llama-index-llms-huggingface) (12.1.0.106)\n",
            "Requirement already satisfied: nvidia-nccl-cu12==2.20.5 in /usr/local/lib/python3.10/dist-packages (from torch<3.0.0,>=2.1.2->llama-index-llms-huggingface) (2.20.5)\n",
            "Requirement already satisfied: nvidia-nvtx-cu12==12.1.105 in /usr/local/lib/python3.10/dist-packages (from torch<3.0.0,>=2.1.2->llama-index-llms-huggingface) (12.1.105)\n",
            "Requirement already satisfied: triton==2.3.0 in /usr/local/lib/python3.10/dist-packages (from torch<3.0.0,>=2.1.2->llama-index-llms-huggingface) (2.3.0)\n",
            "Requirement already satisfied: nvidia-nvjitlink-cu12 in /usr/local/lib/python3.10/dist-packages (from nvidia-cusolver-cu12==11.4.5.107->torch<3.0.0,>=2.1.2->llama-index-llms-huggingface) (12.5.40)\n",
            "Requirement already satisfied: regex!=2019.12.17 in /usr/local/lib/python3.10/dist-packages (from transformers[torch]<5.0.0,>=4.37.0->llama-index-llms-huggingface) (2024.5.15)\n",
            "Requirement already satisfied: tokenizers<0.20,>=0.19 in /usr/local/lib/python3.10/dist-packages (from transformers[torch]<5.0.0,>=4.37.0->llama-index-llms-huggingface) (0.19.1)\n",
            "Requirement already satisfied: safetensors>=0.4.1 in /usr/local/lib/python3.10/dist-packages (from transformers[torch]<5.0.0,>=4.37.0->llama-index-llms-huggingface) (0.4.3)\n",
            "Requirement already satisfied: accelerate>=0.21.0 in /usr/local/lib/python3.10/dist-packages (from transformers[torch]<5.0.0,>=4.37.0->llama-index-llms-huggingface) (0.31.0)\n",
            "Requirement already satisfied: psutil in /usr/local/lib/python3.10/dist-packages (from accelerate>=0.21.0->transformers[torch]<5.0.0,>=4.37.0->llama-index-llms-huggingface) (5.9.5)\n",
            "Requirement already satisfied: aiosignal>=1.1.2 in /usr/local/lib/python3.10/dist-packages (from aiohttp<4.0.0,>=3.8.6->llama-index-core<0.11.0,>=0.10.41->llama-index-llms-huggingface) (1.3.1)\n",
            "Requirement already satisfied: attrs>=17.3.0 in /usr/local/lib/python3.10/dist-packages (from aiohttp<4.0.0,>=3.8.6->llama-index-core<0.11.0,>=0.10.41->llama-index-llms-huggingface) (23.2.0)\n",
            "Requirement already satisfied: frozenlist>=1.1.1 in /usr/local/lib/python3.10/dist-packages (from aiohttp<4.0.0,>=3.8.6->llama-index-core<0.11.0,>=0.10.41->llama-index-llms-huggingface) (1.4.1)\n",
            "Requirement already satisfied: multidict<7.0,>=4.5 in /usr/local/lib/python3.10/dist-packages (from aiohttp<4.0.0,>=3.8.6->llama-index-core<0.11.0,>=0.10.41->llama-index-llms-huggingface) (6.0.5)\n",
            "Requirement already satisfied: yarl<2.0,>=1.0 in /usr/local/lib/python3.10/dist-packages (from aiohttp<4.0.0,>=3.8.6->llama-index-core<0.11.0,>=0.10.41->llama-index-llms-huggingface) (1.9.4)\n",
            "Requirement already satisfied: async-timeout<5.0,>=4.0 in /usr/local/lib/python3.10/dist-packages (from aiohttp<4.0.0,>=3.8.6->llama-index-core<0.11.0,>=0.10.41->llama-index-llms-huggingface) (4.0.3)\n",
            "Requirement already satisfied: anyio in /usr/local/lib/python3.10/dist-packages (from httpx->llama-index-core<0.11.0,>=0.10.41->llama-index-llms-huggingface) (3.7.1)\n",
            "Requirement already satisfied: certifi in /usr/local/lib/python3.10/dist-packages (from httpx->llama-index-core<0.11.0,>=0.10.41->llama-index-llms-huggingface) (2024.6.2)\n",
            "Requirement already satisfied: httpcore==1.* in /usr/local/lib/python3.10/dist-packages (from httpx->llama-index-core<0.11.0,>=0.10.41->llama-index-llms-huggingface) (1.0.5)\n",
            "Requirement already satisfied: idna in /usr/local/lib/python3.10/dist-packages (from httpx->llama-index-core<0.11.0,>=0.10.41->llama-index-llms-huggingface) (3.7)\n",
            "Requirement already satisfied: sniffio in /usr/local/lib/python3.10/dist-packages (from httpx->llama-index-core<0.11.0,>=0.10.41->llama-index-llms-huggingface) (1.3.1)\n",
            "Requirement already satisfied: h11<0.15,>=0.13 in /usr/local/lib/python3.10/dist-packages (from httpcore==1.*->httpx->llama-index-core<0.11.0,>=0.10.41->llama-index-llms-huggingface) (0.14.0)\n",
            "Requirement already satisfied: click in /usr/local/lib/python3.10/dist-packages (from nltk<4.0.0,>=3.8.1->llama-index-core<0.11.0,>=0.10.41->llama-index-llms-huggingface) (8.1.7)\n",
            "Requirement already satisfied: joblib in /usr/local/lib/python3.10/dist-packages (from nltk<4.0.0,>=3.8.1->llama-index-core<0.11.0,>=0.10.41->llama-index-llms-huggingface) (1.4.2)\n",
            "Requirement already satisfied: distro<2,>=1.7.0 in /usr/lib/python3/dist-packages (from openai>=1.1.0->llama-index-core<0.11.0,>=0.10.41->llama-index-llms-huggingface) (1.7.0)\n",
            "Requirement already satisfied: annotated-types>=0.4.0 in /usr/local/lib/python3.10/dist-packages (from pydantic<3,>2->text-generation<0.8.0,>=0.7.0->llama-index-llms-huggingface) (0.7.0)\n",
            "Requirement already satisfied: pydantic-core==2.18.4 in /usr/local/lib/python3.10/dist-packages (from pydantic<3,>2->text-generation<0.8.0,>=0.7.0->llama-index-llms-huggingface) (2.18.4)\n",
            "Requirement already satisfied: charset-normalizer<4,>=2 in /usr/local/lib/python3.10/dist-packages (from requests->huggingface-hub<0.24.0,>=0.23.0->llama-index-llms-huggingface) (3.3.2)\n",
            "Requirement already satisfied: urllib3<3,>=1.21.1 in /usr/local/lib/python3.10/dist-packages (from requests->huggingface-hub<0.24.0,>=0.23.0->llama-index-llms-huggingface) (2.0.7)\n",
            "Requirement already satisfied: greenlet!=0.4.17 in /usr/local/lib/python3.10/dist-packages (from SQLAlchemy[asyncio]>=1.4.49->llama-index-core<0.11.0,>=0.10.41->llama-index-llms-huggingface) (3.0.3)\n",
            "Requirement already satisfied: mypy-extensions>=0.3.0 in /usr/local/lib/python3.10/dist-packages (from typing-inspect>=0.8.0->llama-index-core<0.11.0,>=0.10.41->llama-index-llms-huggingface) (1.0.0)\n",
            "Requirement already satisfied: marshmallow<4.0.0,>=3.18.0 in /usr/local/lib/python3.10/dist-packages (from dataclasses-json->llama-index-core<0.11.0,>=0.10.41->llama-index-llms-huggingface) (3.21.3)\n",
            "Requirement already satisfied: MarkupSafe>=2.0 in /usr/local/lib/python3.10/dist-packages (from jinja2->torch<3.0.0,>=2.1.2->llama-index-llms-huggingface) (2.1.5)\n",
            "Requirement already satisfied: python-dateutil>=2.8.2 in /usr/local/lib/python3.10/dist-packages (from pandas->llama-index-core<0.11.0,>=0.10.41->llama-index-llms-huggingface) (2.8.2)\n",
            "Requirement already satisfied: pytz>=2020.1 in /usr/local/lib/python3.10/dist-packages (from pandas->llama-index-core<0.11.0,>=0.10.41->llama-index-llms-huggingface) (2023.4)\n",
            "Requirement already satisfied: tzdata>=2022.1 in /usr/local/lib/python3.10/dist-packages (from pandas->llama-index-core<0.11.0,>=0.10.41->llama-index-llms-huggingface) (2024.1)\n",
            "Requirement already satisfied: mpmath<1.4.0,>=1.1.0 in /usr/local/lib/python3.10/dist-packages (from sympy->torch<3.0.0,>=2.1.2->llama-index-llms-huggingface) (1.3.0)\n",
            "Requirement already satisfied: exceptiongroup in /usr/local/lib/python3.10/dist-packages (from anyio->httpx->llama-index-core<0.11.0,>=0.10.41->llama-index-llms-huggingface) (1.2.1)\n",
            "Requirement already satisfied: six>=1.5 in /usr/local/lib/python3.10/dist-packages (from python-dateutil>=2.8.2->pandas->llama-index-core<0.11.0,>=0.10.41->llama-index-llms-huggingface) (1.16.0)\n",
            "Installing collected packages: text-generation, llama-index-llms-huggingface\n",
            "Successfully installed llama-index-llms-huggingface-0.2.3 text-generation-0.7.0\n"
          ]
        }
      ]
    },
    {
      "cell_type": "code",
      "source": [
        "from llama_index.core import VectorStoreIndex, SimpleDirectoryReader, ServiceContext\n",
        "from llama_index.llms.huggingface import HuggingFaceLLM\n",
        "from llama_index.core.prompts.prompts import SimpleInputPrompt"
      ],
      "metadata": {
        "colab": {
          "base_uri": "https://localhost:8080/"
        },
        "id": "VSbD5kBW-pGa",
        "outputId": "3c4ebc9c-e87f-496a-ccb4-f8b383f1596a"
      },
      "execution_count": null,
      "outputs": [
        {
          "output_type": "stream",
          "name": "stderr",
          "text": [
            "/usr/local/lib/python3.10/dist-packages/pydantic/_internal/_fields.py:160: UserWarning: Field \"model_id\" has conflict with protected namespace \"model_\".\n",
            "\n",
            "You may be able to resolve this warning by setting `model_config['protected_namespaces'] = ()`.\n",
            "  warnings.warn(\n"
          ]
        }
      ]
    },
    {
      "cell_type": "code",
      "source": [
        "documents=SimpleDirectoryReader(\"/content/data\").load_data()\n",
        "documents"
      ],
      "metadata": {
        "colab": {
          "base_uri": "https://localhost:8080/"
        },
        "id": "1vFeuFH6-vdN",
        "outputId": "d55c18c9-ec0a-40ac-d7ce-f1343b54b1ca"
      },
      "execution_count": null,
      "outputs": [
        {
          "output_type": "execute_result",
          "data": {
            "text/plain": [
              "[Document(id_='b1b5b274-74e3-4d06-a392-3b4221aa6087', embedding=None, metadata={'page_label': '1', 'file_name': 'Cricketbook.pdf', 'file_path': '/content/data/Cricketbook.pdf', 'file_type': 'application/pdf', 'file_size': 2149175, 'creation_date': '2024-06-13', 'last_modified_date': '2024-06-13'}, excluded_embed_metadata_keys=['file_name', 'file_type', 'file_size', 'creation_date', 'last_modified_date', 'last_accessed_date'], excluded_llm_metadata_keys=['file_name', 'file_type', 'file_size', 'creation_date', 'last_modified_date', 'last_accessed_date'], relationships={}, text='CricketTHE ROYAL MARINES\\n', start_char_idx=None, end_char_idx=None, text_template='{metadata_str}\\n\\n{content}', metadata_template='{key}: {value}', metadata_seperator='\\n'),\n",
              " Document(id_='bc41c97a-b50b-447a-900e-3f9281fd4ee9', embedding=None, metadata={'page_label': '2', 'file_name': 'Cricketbook.pdf', 'file_path': '/content/data/Cricketbook.pdf', 'file_type': 'application/pdf', 'file_size': 2149175, 'creation_date': '2024-06-13', 'last_modified_date': '2024-06-13'}, excluded_embed_metadata_keys=['file_name', 'file_type', 'file_size', 'creation_date', 'last_modified_date', 'last_accessed_date'], excluded_llm_metadata_keys=['file_name', 'file_type', 'file_size', 'creation_date', 'last_modified_date', 'last_accessed_date'], relationships={}, text='2\\nStudent Notes                                      Teacher NotesCONTENTS\\nPrepared for The Royal Navy in Association with The National Cricket\\nAssociation and produced by Education & Youth Ltd, London.\\nIf there is any support you feel The Royal Navy can give regarding this\\nproject please contact 0870 333 0423.\\nAcknowledgements\\nThese notes have been compiled by Bob Carter – National Coach,\\n(Coach Education) The National Cricket Association\\nTechnical Editor: P Edwards M.A.MESSAGE FROM THE NATIONAL CRICKET ASSOCIATION 3\\nINTRODUCTION TO THE MODULE 3\\nSKILLS DEVELOPMENT SHEET 4UNIT 1 INTRODUCTION TO CRICKET MODULE 5\\nUNIT 2 TECHNIQUES AND SKILLS 6\\n1 FIELDING 6\\n2 BOWLING 9\\n3 BATTING 144 WICKET KEEPING 22\\nUNIT 3 TACTICS AND FIELD PLACEMENT 25\\nUNIT 4 UMPIRING 28\\nUNIT 5 PHYSICAL CONDITIONING FOR CRICKET 30\\nUNIT 6 HISTORY OF CRICKET 34UNIT 7 THE COMPETITIVE STRUCTURE OF THE SPORT. 35\\nUNIT 8 USEFUL INFORMATION 36', start_char_idx=None, end_char_idx=None, text_template='{metadata_str}\\n\\n{content}', metadata_template='{key}: {value}', metadata_seperator='\\n'),\n",
              " Document(id_='48c190cd-e322-4267-8445-755759286672', embedding=None, metadata={'page_label': '3', 'file_name': 'Cricketbook.pdf', 'file_path': '/content/data/Cricketbook.pdf', 'file_type': 'application/pdf', 'file_size': 2149175, 'creation_date': '2024-06-13', 'last_modified_date': '2024-06-13'}, excluded_embed_metadata_keys=['file_name', 'file_type', 'file_size', 'creation_date', 'last_modified_date', 'last_accessed_date'], excluded_llm_metadata_keys=['file_name', 'file_type', 'file_size', 'creation_date', 'last_modified_date', 'last_accessed_date'], relationships={}, text='3\\nMethod:\\nTeachers should provide:\\n- encouragement, support and motivation to students studying this\\nmodule\\n- access to facilities for practice and also suitable for the game\\nbearing in mind the ability of the players\\n- the opportunity for students to discuss and study any topics not\\nfully covered in the module due to lack of space, e.g. advanced\\ntechniques, the Laws etc.Introduction to the Module\\nModule Objectives:\\nAfter completing the Module students should be able:\\n- to understand the basic principles of the skills of the game,\\ntactics, field placement and umpiring signals\\n- to apply this knowledge to improve their performance and\\nenjoyment in both practice and the game\\n- to discuss the development of the game in recent times.Message from The National Cricket Association\\nThe National Cricket Association, founded in 1968 has several\\nobjectives, two of which are especially relevant with reference to this\\npublication.\\nThey are as follows:- to encourage the playing of cricket in accordance with the Laws of\\nCricket and in the best traditions of Sportsmanship;\\n- to administer a coaching scheme on a national basis on behalf of\\nthe Cricket Council.\\nThe National Coaching Scheme is highly regarded by all cricketing\\nnations as being in the vanguard of educational and coaching methods\\nat all levels. Additionally, two separate Proficiency Award tests are run\\nand administered by the NCA for primary and secondary schoolchildren.\\nThis instruction booklet is intended as a basic guide to students in\\nsecondary schools wishing to follow the basic GCSE or equivalentcourse as set out in the syllabi by the various examining boards.\\nHowever, anyone wishing to delve deeper into this subject should\\nconsult the list of books for recommended reading, or if over the ageof 18, consider enrolling on a locally run Coaching Award Course.\\nFurther information on the latest educational and coaching ideas are\\npublished in ‘Cricket Coach’,  the journal of the Association of CricketCoaches, or in ‘Cricket World’, an independent publication which\\nprovides a forum for NCA official policy and news.', start_char_idx=None, end_char_idx=None, text_template='{metadata_str}\\n\\n{content}', metadata_template='{key}: {value}', metadata_seperator='\\n'),\n",
              " Document(id_='2e9bafee-8f46-480b-9911-29ece8373648', embedding=None, metadata={'page_label': '4', 'file_name': 'Cricketbook.pdf', 'file_path': '/content/data/Cricketbook.pdf', 'file_type': 'application/pdf', 'file_size': 2149175, 'creation_date': '2024-06-13', 'last_modified_date': '2024-06-13'}, excluded_embed_metadata_keys=['file_name', 'file_type', 'file_size', 'creation_date', 'last_modified_date', 'last_accessed_date'], excluded_llm_metadata_keys=['file_name', 'file_type', 'file_size', 'creation_date', 'last_modified_date', 'last_accessed_date'], relationships={}, text='4\\nThe beginning stage of learning cricket is the exploratory phase, where\\nthe player is attempting to learn the correct sequence of movementsof all the basic skills e.g. Batting, bowling, fielding.  A number of\\nerrors may be made and players will require feedback to recognise\\nand correct these errors.\\nDuring the intermediate stage a player will perform more consistently.\\nTiming and anticipation will improve, although skills may break down\\nunder the pressure of a game situation.\\nAt the advanced stage all the basic skills are automatic and a player\\nwill concentrate on more detailed aspects of the skill and the tactics\\nrequired in the game eg. Position of fielders.Skills Development Sheet\\nName of Module Cricket\\nBasic Skills Fielding, bowling, batting, wicket keeping (pages 6-24)\\nGame-play Skills Good basic skills, techniques. A good understanding of the basic principles\\nand tactics. Ability to vary strokes and bowling techniques. Demonstrates\\ngood concentration and alertness in the field (pages 6-24)\\nTactical Skills Bowling: Encouraging dangerous strokes. Varying pace, flight, length,\\nspin and width of crease.\\nBatsmen: Judgement and decision making; looking for gaps in the\\nfield; noting ability of fielders and exploiting weaknesses.\\nFielders: Placing to\\n1) Catch batters\\n2) Stop runs. Adjusting field according to batter (pages 25-27)\\nTraining Skills Aerobic endurance, anaerobic endurance, flexibility (pages 30-33)Rules “The Laws of Cricket” can be obtained from the MCC. Address page 36.', start_char_idx=None, end_char_idx=None, text_template='{metadata_str}\\n\\n{content}', metadata_template='{key}: {value}', metadata_seperator='\\n'),\n",
              " Document(id_='2a4f5d3d-5145-4315-93f6-256843c50e82', embedding=None, metadata={'page_label': '5', 'file_name': 'Cricketbook.pdf', 'file_path': '/content/data/Cricketbook.pdf', 'file_type': 'application/pdf', 'file_size': 2149175, 'creation_date': '2024-06-13', 'last_modified_date': '2024-06-13'}, excluded_embed_metadata_keys=['file_name', 'file_type', 'file_size', 'creation_date', 'last_modified_date', 'last_accessed_date'], excluded_llm_metadata_keys=['file_name', 'file_type', 'file_size', 'creation_date', 'last_modified_date', 'last_accessed_date'], relationships={}, text='5\\nUNIT 1\\nIntroduction to Cricket Module\\nCricket is a game steeped in tradition, in which it is often how you play\\nthe game that is as important as winning. The expression “That’s not\\ncricket” embodied the ideal of “fair play” and good sportsmanshipwhich teachers and coaches should endeavour to foster at all levels.\\nThere are may different levels of the game ranging from the Five Day\\nTest Match, the afternoon club match, the indoor six a side adults,Kwik Cricket, Cricket Pairs game played by 10 year olds to the\\nsimplest single wicket game of one bowler and one batsman. Each\\nrequire different degrees of ability, fitness, skills and commitment.Early exposure to the skills required is a great help in the making of a\\nsuccessful player, though some players have turned to the game at a\\nlater age and achieved a good standard.\\nLearning the skills can be a very enjoyable experience with a great deal\\nof physical activity involved. It is also possible to structure the skill\\nlearning so that simple competitions and small sided games preventthe practices from becoming boring. They also provide opportunities\\nof introducing to beginners, in stages, small sections of the 42 Laws\\ngoverning the playing of the adult game.\\nThe material covered in this book does not relate to any specific\\nExamination Board’s syllabus, but is intended to provide a \\nbasic\\nresource which should be supported and supplemented by reference\\nto the texts listed in Recommended Reading.', start_char_idx=None, end_char_idx=None, text_template='{metadata_str}\\n\\n{content}', metadata_template='{key}: {value}', metadata_seperator='\\n'),\n",
              " Document(id_='809d3f44-a6cc-44c0-a3d9-43c7a2e57544', embedding=None, metadata={'page_label': '6', 'file_name': 'Cricketbook.pdf', 'file_path': '/content/data/Cricketbook.pdf', 'file_type': 'application/pdf', 'file_size': 2149175, 'creation_date': '2024-06-13', 'last_modified_date': '2024-06-13'}, excluded_embed_metadata_keys=['file_name', 'file_type', 'file_size', 'creation_date', 'last_modified_date', 'last_accessed_date'], excluded_llm_metadata_keys=['file_name', 'file_type', 'file_size', 'creation_date', 'last_modified_date', 'last_accessed_date'], relationships={}, text='6\\nFigure 1\\nFigure 2UNIT 2\\nTechniques and Skills\\nIn order to play cricket to examination level, students should have a\\ngood practical and theoretical grasp of the 4 major activities of the\\ngame:\\n• Fielding\\n• Bowling\\n• Batting\\n• Wicket keeping\\n1 Fielding\\nEssentially this involves catching and throwing in a variety of\\ncircumstances both static or on the move.\\nCATCHING\\nThe High Catch\\nObjective: To catch a ball which is dropping quickly.\\nMethod: Sight the ball.\\nMove quickly to where it will come down.Stand still with hands up above eye level and palms facing\\nball, fingers spread out, little fingers touching.\\nHands “give” as ball is caught.\\nFinish close to chest (see Figure 1).\\nThe Skim Catch\\nObjective: Primarily to catch a flat trajectory ball arriving about head\\nhigh.\\nMethod: Sight the ball, palms facing ball, fingers pointing upwards,\\nthumbs touching.\\nHands give as ball is caught.If ball is caught directly in front of head, move head to side\\nas hands give (see Figure 2).\\n', start_char_idx=None, end_char_idx=None, text_template='{metadata_str}\\n\\n{content}', metadata_template='{key}: {value}', metadata_seperator='\\n'),\n",
              " Document(id_='863b8726-a891-46ab-8f2a-3566c87186f1', embedding=None, metadata={'page_label': '7', 'file_name': 'Cricketbook.pdf', 'file_path': '/content/data/Cricketbook.pdf', 'file_type': 'application/pdf', 'file_size': 2149175, 'creation_date': '2024-06-13', 'last_modified_date': '2024-06-13'}, excluded_embed_metadata_keys=['file_name', 'file_type', 'file_size', 'creation_date', 'last_modified_date', 'last_accessed_date'], excluded_llm_metadata_keys=['file_name', 'file_type', 'file_size', 'creation_date', 'last_modified_date', 'last_accessed_date'], relationships={}, text='7\\nFigure 3\\nFigure 4INTERCEPTING AND RETURNING\\nThe Long Barrier and Throw\\nObjective: The long barrier is used to ensure\\nthe ball is stopped.\\nMethod: Head on line of ball.\\nLeft knee on ground, overlapping\\nright heel.\\nPalms facing ball, fingers pointing\\ndown.\\nHolding ball in right hand, stand up taking a\\npace towards target with left foot.\\nAim with left arm.\\nWeight on back foot which is at right angles to\\nline of throw.\\nThrow ball; follow-through over left leg with\\nright arm and right leg (see Figure 4).The Close Catch\\nObjective: Primarily to deal with catches close to the wicket.\\nMethod: Eyes level.\\nHead still.Palms facing anticipated line of ball.\\nFingers pointing down, elbows clear of body.\\nWeight on balls of feet.\\nHands give as ball is caught (see Figure 3).\\n', start_char_idx=None, end_char_idx=None, text_template='{metadata_str}\\n\\n{content}', metadata_template='{key}: {value}', metadata_seperator='\\n'),\n",
              " Document(id_='79b00764-b1b9-4ff2-bfc3-03ccabfe9f82', embedding=None, metadata={'page_label': '8', 'file_name': 'Cricketbook.pdf', 'file_path': '/content/data/Cricketbook.pdf', 'file_type': 'application/pdf', 'file_size': 2149175, 'creation_date': '2024-06-13', 'last_modified_date': '2024-06-13'}, excluded_embed_metadata_keys=['file_name', 'file_type', 'file_size', 'creation_date', 'last_modified_date', 'last_accessed_date'], excluded_llm_metadata_keys=['file_name', 'file_type', 'file_size', 'creation_date', 'last_modified_date', 'last_accessed_date'], relationships={}, text='8\\nFigure 5\\nFigure 6\\nFigure 7CHASING AND RETRIEVING\\nThe Short Throw\\nObjective: Run inside line of ball to enable right foot to land beside it.\\nMethod: Weight well back. Head over right knee, left foot trailing.Pick ball up.\\nTurn to left into throwing position.\\nAim and throw without further steps (see Figure 5).\\n(If the ball is moving quickly it may be necessary to take\\nseveral braking strides before turning and throwing.)\\nThe Long Throw\\nObjective: To retrieve a ball after picking up near\\nthe boundary.\\nMethod: Ensure left foot is forward alongside\\nball.\\nBend down keeping seat well back.\\nPick ball up.\\nPush hard on left foot.\\nTurn to left, fling left arm into aiming\\nposition and throw (see Figure 6).\\nThrowing on the Turn\\nNB This is an advanced technique, used to prevent\\nruns, or to secure a run out.\\nMethod: Run inside line of ball.\\nPick up ball alongside right foot.Step onto left foot.\\nJump, turning in the air.\\nAim at target with left arm.\\nThrow while still in the air (see Figure 7).\\n', start_char_idx=None, end_char_idx=None, text_template='{metadata_str}\\n\\n{content}', metadata_template='{key}: {value}', metadata_seperator='\\n'),\n",
              " Document(id_='585830b6-a209-4648-a822-6e381da33d11', embedding=None, metadata={'page_label': '9', 'file_name': 'Cricketbook.pdf', 'file_path': '/content/data/Cricketbook.pdf', 'file_type': 'application/pdf', 'file_size': 2149175, 'creation_date': '2024-06-13', 'last_modified_date': '2024-06-13'}, excluded_embed_metadata_keys=['file_name', 'file_type', 'file_size', 'creation_date', 'last_modified_date', 'last_accessed_date'], excluded_llm_metadata_keys=['file_name', 'file_type', 'file_size', 'creation_date', 'last_modified_date', 'last_accessed_date'], relationships={}, text='9\\nFigure 8\\nFigure 9Step 1\\nBowling from the Coil Position\\nObjective: To introduce the bowling action to beginners.\\nMethod: Raise front arm. Look over shoulder. Bowling hand across\\nchest.\\nLean back. Lift front knee. Arch back slightly. Look down\\nintended line of delivery.\\nSwing bowling arm downwards and then backwards.\\nSwing front arm forwards. Stamp down with front foot.\\nContinue rotation of arms. Keep front arm close to body.\\nStraighten front leg. Keep head upright. Release ball as arm\\npasses head. Keep hand behind ball.\\nSwing front arm high behind body. Follow-through with\\nbowling arm across body. Bring back leg through, bent and\\nclose to other leg. Bowling shoulder points to target.\\nFollow-through by taking steps forward (see Figure 9).2 Bowling\\nThe first essential of effective\\nbowling is that the studentadopts the correct grip (see\\nFigure 8).\\nTHE BASIC GRIP\\nMethod: Seam vertical.Thumb on edge of\\nseam; first two\\nfingers slightly apart;\\nthird finger bent andsupporting ball (see\\nFigure 8).\\nHaving achieved this, the whole\\nskill should be introduced in a\\nsimplified form, using the\\nfollowing steps.General points for fielders\\nExpect every ball to come to you but do not anticipate its line,\\nheight or speed.\\nAll fielders except close catchers should be moving in towards\\nthe striker as the bowler delivers the ball.\\nSlips, leg slip and wicketkeeper can watch the ball from the\\nbowler’s hand; others watch the bat.\\nSight the ball before moving off in a particular direction; then\\nmove quickly.\\nWhenever possible use two hands and get some part of the body\\nbehind the ball unless this action would prevent a run out.\\nHaving fielded a ball, throw it immediately to the wicketkeeper or,\\nif there is a chance of a run out, at the stumps.If not fielding the ball, back up at either end to reduce\\nthe chance of over-throws.\\nIf you are close to the bowler’s wicket and he cannot get\\nback to it, move to it to take the return.\\nConcentrate all the time, keeping an eye on your captain\\nwho may wish to move you.\\nIf there is a possibility of two fielders colliding when\\ngoing for the same ball the nearest should call ‘mine’ orthe captain should shout the name of the player who is\\nto field the ball.\\nOn cold days keep your muscles and hands warm to\\nprevent injury and to be ready for instant action.', start_char_idx=None, end_char_idx=None, text_template='{metadata_str}\\n\\n{content}', metadata_template='{key}: {value}', metadata_seperator='\\n'),\n",
              " Document(id_='ed2f7197-24a6-4c01-80f1-92ea6f938b3d', embedding=None, metadata={'page_label': '10', 'file_name': 'Cricketbook.pdf', 'file_path': '/content/data/Cricketbook.pdf', 'file_type': 'application/pdf', 'file_size': 2149175, 'creation_date': '2024-06-13', 'last_modified_date': '2024-06-13'}, excluded_embed_metadata_keys=['file_name', 'file_type', 'file_size', 'creation_date', 'last_modified_date', 'last_accessed_date'], excluded_llm_metadata_keys=['file_name', 'file_type', 'file_size', 'creation_date', 'last_modified_date', 'last_accessed_date'], relationships={}, text='10\\nFigure 10\\nFigure 11\\nFigure 12\\nStep 2\\nRun Up and Bound\\nMethod: Concentrate on line of delivery.Smooth rhythmical approach.Accelerate gradually. Control speed.\\nBound (spring) off left foot. Raise both arms. Turn 90 ° in\\nair.\\nLand in coil position leaning back from batsman.\\nRepeat bowling action.Practise bowling with a smooth and economical run-up and\\neasy rhythmical well balanced delivery, finishing with a\\ndeliberate and fluent follow-through (see Figure 10).\\nOnce players have mastered these steps they should be ready to\\nprogress to more complex skills using swing and spin.\\nTHE OUTSWING OR AWAY SWING\\nNB To do this it is essential that the ball used has a good seam.\\nThe Grip\\nMethod: Seam vertical but pointing at slips.\\nSide of thumb on centre seam. First two fingers either side\\nof seam.\\nPolished side of ball to leg side (see Figure 11).\\nThe Action\\nMethod: Bowl from close to stumps.\\nLook over front shoulder behind\\nfront arm.\\nBack foot parallel with crease.\\nFront foot lands to leg side of\\nback foot.\\nHigh delivery, hand behind ball.Emphasise good follow-through\\nof bowling arm and shoulder\\n(see Figure 12).', start_char_idx=None, end_char_idx=None, text_template='{metadata_str}\\n\\n{content}', metadata_template='{key}: {value}', metadata_seperator='\\n'),\n",
              " Document(id_='f51f8dec-4c3c-4c65-a7f1-0524f8938195', embedding=None, metadata={'page_label': '11', 'file_name': 'Cricketbook.pdf', 'file_path': '/content/data/Cricketbook.pdf', 'file_type': 'application/pdf', 'file_size': 2149175, 'creation_date': '2024-06-13', 'last_modified_date': '2024-06-13'}, excluded_embed_metadata_keys=['file_name', 'file_type', 'file_size', 'creation_date', 'last_modified_date', 'last_accessed_date'], excluded_llm_metadata_keys=['file_name', 'file_type', 'file_size', 'creation_date', 'last_modified_date', 'last_accessed_date'], relationships={}, text='11\\nFigure 14Figure 13\\nTHE IN-SWING\\nThe Grip\\nMethod : Hold the ball with the polished side\\non the off side.\\nSeam vertical but pointing to leg\\nside.\\nBall of thumb against seam.\\nFirst two fingers close together on\\nseam (see Figure 13).\\nThe Action\\nMethod: Bowl from wider position on crease.\\nOpen coil - more chest on.\\nLook inside arm. Back foot points\\ndown pitch.\\nFront foot in line with or outside\\nback foot. High bowling arm on\\nrelease.\\nFeel as though pushing ball to\\nlegside.\\nBowling arm does not follow-\\nthrough across body (see Figure\\n14).', start_char_idx=None, end_char_idx=None, text_template='{metadata_str}\\n\\n{content}', metadata_template='{key}: {value}', metadata_seperator='\\n'),\n",
              " Document(id_='9faa154d-2043-4a7c-874f-33354ca2d7b7', embedding=None, metadata={'page_label': '12', 'file_name': 'Cricketbook.pdf', 'file_path': '/content/data/Cricketbook.pdf', 'file_type': 'application/pdf', 'file_size': 2149175, 'creation_date': '2024-06-13', 'last_modified_date': '2024-06-13'}, excluded_embed_metadata_keys=['file_name', 'file_type', 'file_size', 'creation_date', 'last_modified_date', 'last_accessed_date'], excluded_llm_metadata_keys=['file_name', 'file_type', 'file_size', 'creation_date', 'last_modified_date', 'last_accessed_date'], relationships={}, text='12\\nFigure 15\\nFigure 16\\nOFF SPIN AND LEFT ARM ORTHODOX\\nSPIN (FINGER SPIN)\\nNB An off break spins the ball from off to\\nleg, rotating clockwise from the bowler. Theleft arm spinner moves the ball from leg to\\noff.\\nThe Grip\\nMethod: Hold ball in between first and\\nsecond fingers.\\nSeam at right angles to the\\nfingers.\\nTop joints across seam.\\nKnuckles of first finger and\\nsecond finger grip seam.\\nDo not use thumb to hold ball\\n(see Figure 15).\\nThe Action\\nMethod: Shortish run up.Good coil position; look behind\\narm. Short delivery stride.\\nFront foot slightly across to leg\\nside.\\nHigh delivery, head up.\\nPivot on ball of front foot.\\nTwist hand clockwise.Flick ball with first finger.\\nPull bowling arm across the\\nbody.\\nSpin ball clockwise by turning\\nhand upwards.\\nFinish with palm upwards (see\\nFigure 16).', start_char_idx=None, end_char_idx=None, text_template='{metadata_str}\\n\\n{content}', metadata_template='{key}: {value}', metadata_seperator='\\n'),\n",
              " Document(id_='928bcd5d-be99-40a2-9819-4cbe1144cd26', embedding=None, metadata={'page_label': '13', 'file_name': 'Cricketbook.pdf', 'file_path': '/content/data/Cricketbook.pdf', 'file_type': 'application/pdf', 'file_size': 2149175, 'creation_date': '2024-06-13', 'last_modified_date': '2024-06-13'}, excluded_embed_metadata_keys=['file_name', 'file_type', 'file_size', 'creation_date', 'last_modified_date', 'last_accessed_date'], excluded_llm_metadata_keys=['file_name', 'file_type', 'file_size', 'creation_date', 'last_modified_date', 'last_accessed_date'], relationships={}, text='13\\nFigure 17\\nFigure 18\\nLEG SPIN OR CHINAMAN\\nNB A legbreak spins from leg to off, rotating anti-clockwise from\\nbowler. A left arm wrist spinner rotates the ball clockwise and is said\\nto bowl ‘Chinamen’.\\nThe Grip\\nMethod: Seam at right angles to fingers.First two fingers spread; first joints on seam.\\nThird finger bent along seam (see Figure 17).\\nThe Action\\nMethod: Shortish run up.\\nGood coil position.\\nLook over shoulder.\\nWrist bent in towards forearm.\\nPlace front foot to leg side of back\\nfoot.\\nKeep head up.\\nHigh delivery.\\nHold wrist back.\\nPivot around front foot.Flick wrist forward.\\nPull down with first finger.\\nStraighten third finger.\\nFlick third finger straight as ball is\\nreleased.\\nContinue across body, palm\\ndownwards (see Figure 18).\\nCUTTERS – FLOATER – GOOGLY\\nWithin a work of this size, it is impossible to cover the\\nadvanced stages of bowling, although it is acknowledged\\nthat some GCSE or equivalent syllabi demand that theseare included. Further information regarding these skills is\\nto be found by reference to the texts listed in\\nRecommended Reading.', start_char_idx=None, end_char_idx=None, text_template='{metadata_str}\\n\\n{content}', metadata_template='{key}: {value}', metadata_seperator='\\n'),\n",
              " Document(id_='7bfd7b42-91cd-4110-af00-b907c3d651a1', embedding=None, metadata={'page_label': '14', 'file_name': 'Cricketbook.pdf', 'file_path': '/content/data/Cricketbook.pdf', 'file_type': 'application/pdf', 'file_size': 2149175, 'creation_date': '2024-06-13', 'last_modified_date': '2024-06-13'}, excluded_embed_metadata_keys=['file_name', 'file_type', 'file_size', 'creation_date', 'last_modified_date', 'last_accessed_date'], excluded_llm_metadata_keys=['file_name', 'file_type', 'file_size', 'creation_date', 'last_modified_date', 'last_accessed_date'], relationships={}, text='14\\nFigure 19\\nFigure 20\\nFigure 21\\n3 Batting\\nPlease note, throughout the module “batsman” also refers to\\n“batswoman”.\\nBatting in cricket is probably the most popular of all skills. Firstly, it\\nallows the player to score, and secondly he has the full attention of notonly both teams, but also the spectators.\\nWhen teaching batting it is essential that staff exercise great care in\\nselecting the surface on which the skill is performed. At school levelthis is often a factor over which neither staff nor students have any\\ncontrol. Nevertheless, staff should remain on the side of caution and\\non bad pitches certain strokes should \\nnot be taught. It is accepted that\\nat least one Examining Board includes the hook within the syllabus.\\nThe National Cricket Association (NCA) does not recommend that this\\nstroke be taught to inexperienced players, particularly if the pitch issuspect. For this reason the hook and other advanced skills (lofted\\nshots, the sweep and the late cut) are omitted from this text.\\nBATTING SKILLS – THE BASIC ELEMENTS\\nThe Grip\\nMethod: Hands close together towards top of handle.\\nTop hand gripping very firmly.\\nFingers and thumbs of both hands around handle.\\nV’s formed by thumb and forefinger are in line\\napproximately half way between splice and outside edge of\\nbat (see Figure 19).\\nThe Stance\\nMethod: Feet slightly apart.Knees slightly flexed, weight evenly distributed on balls of\\nfeet – not heels.\\nEyes level and square to line of delivery.\\nToe of bat on ground (see Figure 20).\\nTHE BACKLIFT\\nMethod: Front shoulder and elbow pointing to bowler.\\nBat raised but pushed back over middle-stump.\\nHead still.\\nOpen face of bat to point.\\nTop forearm roughly parallel with ground.\\nBack elbow away from body.No movement of body backwards or forwards until\\nselection of stroke to be played is made (see Figure 21).', start_char_idx=None, end_char_idx=None, text_template='{metadata_str}\\n\\n{content}', metadata_template='{key}: {value}', metadata_seperator='\\n'),\n",
              " Document(id_='c3879708-ba51-4398-98f0-a0c5aae28218', embedding=None, metadata={'page_label': '15', 'file_name': 'Cricketbook.pdf', 'file_path': '/content/data/Cricketbook.pdf', 'file_type': 'application/pdf', 'file_size': 2149175, 'creation_date': '2024-06-13', 'last_modified_date': '2024-06-13'}, excluded_embed_metadata_keys=['file_name', 'file_type', 'file_size', 'creation_date', 'last_modified_date', 'last_accessed_date'], excluded_llm_metadata_keys=['file_name', 'file_type', 'file_size', 'creation_date', 'last_modified_date', 'last_accessed_date'], relationships={}, text='15\\nFigure 22\\nFigure 23\\nTHE BASIC SHOTS\\nThe Pull\\nThis stroke is played to a short pitched ball bouncing between knee\\nand chest height as it arrives at the batsman. This is known as a longhop.\\nWhen learning strokes, a firm level surface is required in order to\\nachieve an even predictable bounce from a tennis ball. Extreme caremust be taken to ensure that no batsman will hit a ball into an area\\nwhere others are working. Sufficient space must be allowed so that\\nindividual batsmen do not strike any person from another group withthe bat. No fielder is allowed nearer than 10 paces from the batsman.\\nIf practising inside, the batsman can strike the ball towards a wall and\\nthe fielders can intercept the ball on the rebound from the wall at aposition nearer the striker but on the opposite side from the direction\\nin which the ball was struck.\\nMethod: Start with high backlift.\\nStep back and\\nacross, with both feet\\nsquare to the wicket.\\nFix eyes on ball and\\nkeep head still and\\nforward of body.\\nHit ball at arm’s\\nlength in line with\\nbody.\\nAim to hit ball in front\\nof square-leg and\\ndownwards.\\nTransfer weight from\\nback to front leg (seeFigure 22).\\nHitting a Full Toss to Leg\\nObjective: To play a ball which\\ndoes not bounce before\\narriving at the batsman.\\nMethod: High backlift.\\nLean forward, head and\\nfront shoulder leadingon to line of ball.\\nFix eyes on ball.\\nHit ball downwards at\\narm’s length.\\nAim in front of square-\\nleg.\\nWeight on front leg.\\nKeep looking at place\\nwhere contact was\\nmade in order to keep\\nhead still and maintainbalance (see Figure\\n23).', start_char_idx=None, end_char_idx=None, text_template='{metadata_str}\\n\\n{content}', metadata_template='{key}: {value}', metadata_seperator='\\n'),\n",
              " Document(id_='782f48c8-50e7-49ae-a672-8120e0857556', embedding=None, metadata={'page_label': '16', 'file_name': 'Cricketbook.pdf', 'file_path': '/content/data/Cricketbook.pdf', 'file_type': 'application/pdf', 'file_size': 2149175, 'creation_date': '2024-06-13', 'last_modified_date': '2024-06-13'}, excluded_embed_metadata_keys=['file_name', 'file_type', 'file_size', 'creation_date', 'last_modified_date', 'last_accessed_date'], excluded_llm_metadata_keys=['file_name', 'file_type', 'file_size', 'creation_date', 'last_modified_date', 'last_accessed_date'], relationships={}, text='16\\nFigure 24\\nFigure 25Back Defensive Stroke\\nObjective: This stroke is played to a ball pitching short and\\nbouncing knee high or above.\\nMethod: High back lift.\\nStep back and across towards off side if ball is on off\\nstump.\\nBack foot parallel with crease.\\nBack of front shoulder turned slightly.\\nHead on line of delivery.Weight on back foot.\\nBalance of body forward.\\nFront foot brought back naturally.\\nRelax bottom hand to finger and thumb grip.\\nTop hand in control.Ball is played under head.\\nBat vertical but angled downwards so that ball is not\\nplayed upwards (see Figure 24).\\nThe Forward Defence Stroke\\nObjective: To prevent a good length ball from hitting the wicket.The ball should not bounce as high as the knee.\\nMethod: From a good straight backlift lead with head and frontshoulder onto the line of the ball.\\nTop hand in control.\\nRelax bottom hand to thumb and finger grip.\\nFront leg close to line of ball and bent at knee.\\nEase back foot onto inside of foot; keep back leg\\nstraight.\\nDo not follow-through.\\nMaintain a good balance by keeping head close to\\nfront shoulder and over the bat (see Figure 25).', start_char_idx=None, end_char_idx=None, text_template='{metadata_str}\\n\\n{content}', metadata_template='{key}: {value}', metadata_seperator='\\n'),\n",
              " Document(id_='786ae937-3455-49cf-b62b-2af1d7801191', embedding=None, metadata={'page_label': '17', 'file_name': 'Cricketbook.pdf', 'file_path': '/content/data/Cricketbook.pdf', 'file_type': 'application/pdf', 'file_size': 2149175, 'creation_date': '2024-06-13', 'last_modified_date': '2024-06-13'}, excluded_embed_metadata_keys=['file_name', 'file_type', 'file_size', 'creation_date', 'last_modified_date', 'last_accessed_date'], excluded_llm_metadata_keys=['file_name', 'file_type', 'file_size', 'creation_date', 'last_modified_date', 'last_accessed_date'], relationships={}, text='17\\nFigure 26\\nFigure 27\\nThe Off Drive\\nObjective: To play to a half-volley, a ball which pitches\\nclose to the batsman and does not bounce\\nvery high. It will be just on or outside the offstump.\\nMethod: From a good high backlift, lead with headand front shoulder onto line of ball.\\nTop hand in control.\\nPlay ball under head close to bent front leg.\\nDo not lift head after contact.\\nArms follow-through along line ball was\\nstruck; top hand and elbow high.\\nBack leg straight; weight on front foot.\\nThe wrist can now ‘break’ allowing the bat\\nto go over the shoulder, handle pointingroughly in direction of ball (see Figure 26).\\nThe Straight Drive\\nObjective: To play to a half-volley which pitches\\napproximately on the line of the middle-\\nstump.\\nMethod: In all ways similar to off drive but the lead\\nof head and front shoulder is straight down\\nthe pitch.\\nThe On Drive\\nObjective: This stroke is played to a half-volley, pitching\\non or just outside the leg stump.\\nMethod: Very similar to other drives.\\nLead with head and front shoulder onto line\\nof ball.\\nDip front shoulder while taking a shorter\\nstride than for other drives.\\nThrow hands and arms out along line ball is\\nintended to be struck.\\nKeep head close to shoulder. Top hand in\\ncontrol all the time (see Figure 27).', start_char_idx=None, end_char_idx=None, text_template='{metadata_str}\\n\\n{content}', metadata_template='{key}: {value}', metadata_seperator='\\n'),\n",
              " Document(id_='83e0c8bd-89fc-4def-ab9c-cd2611116aa9', embedding=None, metadata={'page_label': '18', 'file_name': 'Cricketbook.pdf', 'file_path': '/content/data/Cricketbook.pdf', 'file_type': 'application/pdf', 'file_size': 2149175, 'creation_date': '2024-06-13', 'last_modified_date': '2024-06-13'}, excluded_embed_metadata_keys=['file_name', 'file_type', 'file_size', 'creation_date', 'last_modified_date', 'last_accessed_date'], excluded_llm_metadata_keys=['file_name', 'file_type', 'file_size', 'creation_date', 'last_modified_date', 'last_accessed_date'], relationships={}, text='18\\nFigure 28\\nFigure 29\\nThe Forcing Stroke Off the Back Foot\\nObjective: This stroke is played to a ball short of a\\nlength outside the off stump which does\\nnot bounce more than about knee height.\\nMethod: Essential to have a good high back lift.\\nStep back and slightly across to offside\\njust inside the line of ball.\\nBack foot parallel to crease.\\nFront shoulder turned slightly to off side.\\nWeight on back foot.\\nHead down.\\nControl downswing of bat with top hand.Allow front leg to move close to back leg.\\nJust before contact with ball punch\\nthrough with bottom hand.\\nStop (check) swing of bat as shown,\\nkeeping a high front elbow.\\nKeep looking at spot contact was made to\\nmaintain balance and forward poise of\\nbody (see Figure 28).\\nThe Square Cut\\nObjective: This stroke is played to a short pitched\\nball which passes wide of the off stump,ideally about waist high.\\nMethod: High backlift.\\nTurn back of front shoulder to bowler.\\nStep back and across to off side with\\nback foot.\\nHit down on the ball at arm’s length.\\nWatch ball carefully, making contact as it\\nis level with body.\\nKeep head well over back knee as bat\\nfollows through.\\nWeight is on back foot (see Figure 29).', start_char_idx=None, end_char_idx=None, text_template='{metadata_str}\\n\\n{content}', metadata_template='{key}: {value}', metadata_seperator='\\n'),\n",
              " Document(id_='590f4dd0-ecc0-4fe7-898f-708c5b102036', embedding=None, metadata={'page_label': '19', 'file_name': 'Cricketbook.pdf', 'file_path': '/content/data/Cricketbook.pdf', 'file_type': 'application/pdf', 'file_size': 2149175, 'creation_date': '2024-06-13', 'last_modified_date': '2024-06-13'}, excluded_embed_metadata_keys=['file_name', 'file_type', 'file_size', 'creation_date', 'last_modified_date', 'last_accessed_date'], excluded_llm_metadata_keys=['file_name', 'file_type', 'file_size', 'creation_date', 'last_modified_date', 'last_accessed_date'], relationships={}, text='19\\nFigure 30\\nFigure 31\\nThe Forward Leg Glance\\nObjective: This stroke is played to a good length or\\nslightly over pitched ball on or outside\\nthe leg stump.\\nMethod: Lead with head and front shoulder ontoline of ball.\\nFront foot lands in line with ball; top\\nhand in control.\\nAngle face of bat slightly to leg side.\\nKeep handle further forward than blade\\nto play ball down.\\nMaintain a good balance by keeping\\nhead over front knee as ball is played\\nand afterwards.\\nAllow wrists to continue to turn as bat\\nfollows through (see Figure 30).\\nThe Backward Leg Glance\\nObjective: This stroke is played to a ball just short\\nof a length which is missing the legstump.\\nMethod: Step back, allowing back foot to point tocover.\\nHead on line of ball.\\nFront foot taken back naturally.\\nAllow ball to come close.\\nPlay ball down with angled bat, face\\npointing to leg side.\\nControl stroke with top hand.\\nWrists continue to turn as bat follows\\nthrough (see Figure 31).\\nFor details and descriptions of more advanced\\nstrokes reference should be made to\\nRecommended Reading.', start_char_idx=None, end_char_idx=None, text_template='{metadata_str}\\n\\n{content}', metadata_template='{key}: {value}', metadata_seperator='\\n'),\n",
              " Document(id_='353f563d-af8e-4222-9012-e6895acdbed5', embedding=None, metadata={'page_label': '20', 'file_name': 'Cricketbook.pdf', 'file_path': '/content/data/Cricketbook.pdf', 'file_type': 'application/pdf', 'file_size': 2149175, 'creation_date': '2024-06-13', 'last_modified_date': '2024-06-13'}, excluded_embed_metadata_keys=['file_name', 'file_type', 'file_size', 'creation_date', 'last_modified_date', 'last_accessed_date'], excluded_llm_metadata_keys=['file_name', 'file_type', 'file_size', 'creation_date', 'last_modified_date', 'last_accessed_date'], relationships={}, text='20\\nNon striker’s callFigure 33\\nFigure 32\\nRunning Between the Wickets\\nIn order to score in cricket it is\\nnecessary for the batsman to\\nrun between the wickets. Whilethis may appear blatantly\\nobvious, there is nevertheless a\\ndegree of judgement as well asphysical skill involved, and staff\\nare recommended to spend\\nsome time on this topic withinthe time allotted to teaching and\\npractising batting.\\nRunning between the wickets\\ninvolves 5 factors:\\n(1) Calling\\n(2) Deciding who makes the call\\n(3) Backing up\\n(4) Making one’s ground(5) Multiple runs\\nCalling\\nThere are three calls:\\nYes – when there is definitely a\\nrun\\nNo – when there is no chance\\nof a run\\nWait – if unsure whether the\\nfielder can collect the\\nball\\nWait is always followed quickly\\nby either yes or no.\\nWhose Call\\nThis depends on where the ball\\nhas been struck. Generally if the\\nstriker can see the ball easily itis his call. If it has gone behind\\nthe striker it would be the non\\nstriker’s call (see Figure 32).Either batsman may refuse to\\nrun if he thinks he cannot makethe run, provided he does so\\nimmediately.\\nBacking Up\\nThe non-striker holds his bat\\nwith the hand nearest thebowler. As the bowler\\ncommences his delivery, the non\\nstriker is moving towards hispartner, placing his bat just\\ninside the popping crease. He\\nwatches the bowler deliver theball before leaving the crease\\nand moving down the pitch. Ifthe bowler does not deliver the\\nball, he is able to remain within\\nhis ground because the bat isgrounded behind the crease.\\nThe non striker’s duty is to run\\nclear of the striker so that he\\ndoes not impede him if the\\nstriker, due to the stroke he hasplayed, has to run on the same\\nside of the pitch (see Figure 33).', start_char_idx=None, end_char_idx=None, text_template='{metadata_str}\\n\\n{content}', metadata_template='{key}: {value}', metadata_seperator='\\n'),\n",
              " Document(id_='4a9698d1-5df1-4daa-b420-4f261cd38c74', embedding=None, metadata={'page_label': '21', 'file_name': 'Cricketbook.pdf', 'file_path': '/content/data/Cricketbook.pdf', 'file_type': 'application/pdf', 'file_size': 2149175, 'creation_date': '2024-06-13', 'last_modified_date': '2024-06-13'}, excluded_embed_metadata_keys=['file_name', 'file_type', 'file_size', 'creation_date', 'last_modified_date', 'last_accessed_date'], excluded_llm_metadata_keys=['file_name', 'file_type', 'file_size', 'creation_date', 'last_modified_date', 'last_accessed_date'], relationships={}, text='21\\nFigure 35Figure 34\\nMaking One’s Ground\\nAlways run the first run as fast as\\npossible. Aim to run the bat in\\nshort of the popping crease sothat it  is grounded as it crosses\\nthe crease (see Figure 34).\\nMultiple RunsWhen there is a possibility of\\nmore than one run, the call is yes,\\nbut as the batsmen pass eachother they should quietly suggest\\nthe possibility: \\n“Look for two”,\\n“Could be three”.\\nGround the bat in either left or\\nright hand so that the turn can be\\nmade facing the direction inwhich the ball is being fielded.\\nTurn\\nLook – at the fielder to see\\nwhether there is another\\nrun.\\nLook – at the other batsman to\\nensure he can run again.\\nCall – run if yes, stay in ground\\nif no (see Figure 35).\\nGeneral Points\\nIf both batsmen start to run it is better to try and get to the other end\\nthan to stop and return to the starting point.\\nEnsure the bat is run in on its edge and grounded behind the popping\\ncrease before turning for the next run.\\nBefore running for a misfield, ensure that the ball has travelled a\\nsufficient distance from the fielder to allow a safe run. Having\\naccepted a run, do not watch the ball when running.', start_char_idx=None, end_char_idx=None, text_template='{metadata_str}\\n\\n{content}', metadata_template='{key}: {value}', metadata_seperator='\\n'),\n",
              " Document(id_='8af99b96-52c5-427e-91d0-ead253427683', embedding=None, metadata={'page_label': '22', 'file_name': 'Cricketbook.pdf', 'file_path': '/content/data/Cricketbook.pdf', 'file_type': 'application/pdf', 'file_size': 2149175, 'creation_date': '2024-06-13', 'last_modified_date': '2024-06-13'}, excluded_embed_metadata_keys=['file_name', 'file_type', 'file_size', 'creation_date', 'last_modified_date', 'last_accessed_date'], excluded_llm_metadata_keys=['file_name', 'file_type', 'file_size', 'creation_date', 'last_modified_date', 'last_accessed_date'], relationships={}, text='22\\n4 Wicket Keeping\\nThere are 2 positions from which to keep wicket.\\n• Standing back from the wicket.\\n• Standing up to the wicket.\\nStanding Back\\nMethod: Position where ball can be taken as it drops between waist\\nand knee height after bouncing.\\nCrouch to off side of stumps to get a clear view of ball.\\nRise with bounce of ball.\\nPalms facing ball, little fingers touching.\\nHands forward to give as ball is taken.\\nEyes level; head as still as possible (see Figure 36).\\nFigure 36\\nStanding up to the Wicket – The Stance\\nMethod: Squat down just wide enough to obtain a good view of ball.Safe distance behind stumps so that no part of keeper or\\nhis/her equipment breaks back edge of bowling crease as\\nball is taken.\\nEyes level, weight on balls of feet.\\nBacks of fingers resting on ground, palms facing\\nbowler(see Figure 37).\\nFigure 37', start_char_idx=None, end_char_idx=None, text_template='{metadata_str}\\n\\n{content}', metadata_template='{key}: {value}', metadata_seperator='\\n'),\n",
              " Document(id_='cc6a5650-90f0-4b7a-8937-6ea3356802d2', embedding=None, metadata={'page_label': '23', 'file_name': 'Cricketbook.pdf', 'file_path': '/content/data/Cricketbook.pdf', 'file_type': 'application/pdf', 'file_size': 2149175, 'creation_date': '2024-06-13', 'last_modified_date': '2024-06-13'}, excluded_embed_metadata_keys=['file_name', 'file_type', 'file_size', 'creation_date', 'last_modified_date', 'last_accessed_date'], excluded_llm_metadata_keys=['file_name', 'file_type', 'file_size', 'creation_date', 'last_modified_date', 'last_accessed_date'], relationships={}, text='23\\nStanding Up to the Wicket – Taking a Straight Ball\\nMethod: Head and body behind line of ball.\\nRise with bounce of ball.\\nFingers pointing down.Hands give and elbows clear of body as ball is taken.\\nTransfer weight to foot nearest stumps to commence\\nbringing ball towards wicket in case of stumping\\nopportunity (see Figure 38).\\nStanding Up to the Wicket – Taking a Wide Offside Ball\\nMethod: Move quickly to offside with outside foot turned in.\\nHands on line of ball.\\nGive with hands.\\nTransfer weight towards stumps by pushing head towards\\nthem.\\nSwing arms towards wicket.\\nKnock bails off if batsman is to be stumped (see Figure\\n39).\\nStanding Up to the Wicket – Taking a Legside Ball\\nMethod: Sight and judge ball from normal stance.\\nMove quickly to leg side.\\nTransfer weight from left foot which has turned in slightly,\\nto right.\\nTake ball just outside line of body.\\nPush head towards wicket to assist swing of arms to break\\nwicket if necessary (see Figure 40).\\nFigure 40Figure 39Figure 38\\n', start_char_idx=None, end_char_idx=None, text_template='{metadata_str}\\n\\n{content}', metadata_template='{key}: {value}', metadata_seperator='\\n'),\n",
              " Document(id_='049467dc-0751-45cb-9e28-eea89b740c0c', embedding=None, metadata={'page_label': '24', 'file_name': 'Cricketbook.pdf', 'file_path': '/content/data/Cricketbook.pdf', 'file_type': 'application/pdf', 'file_size': 2149175, 'creation_date': '2024-06-13', 'last_modified_date': '2024-06-13'}, excluded_embed_metadata_keys=['file_name', 'file_type', 'file_size', 'creation_date', 'last_modified_date', 'last_accessed_date'], excluded_llm_metadata_keys=['file_name', 'file_type', 'file_size', 'creation_date', 'last_modified_date', 'last_accessed_date'], relationships={}, text='24\\nStanding Up to the Wicket – Taking a Rising Ball\\nMethod: This applies to leg and offside.\\nKeep gloves on line of ball.\\nSway head and body off the line; allow gloves to rise with\\nball.\\nPush head towards stumps to assist arm swing back for\\npossible stumping (see Figure 41).\\nFigure 41\\nTaking Returns From the Field\\nMethod: Move quickly to put the wicket between the ball and the\\nwicket keeper.\\nWhenever possible take the ball on the full toss unless this\\nwould mean missing the chance of a run out.\\nAlways try to take the ball in the gloves. Pads are for\\nprotection should the ball be missed; they are not a frontline of defence.\\nIf a fielder is chasing a ball with his back to the wicket\\nkeeper it helps the fielder to sight the keeper as he turns ifa gloved hand is held above the keeper’s head.\\nBe prepared to remove a glove in order to throw the ball at\\nthe bowler’s wicket if a run out is possible at that end.', start_char_idx=None, end_char_idx=None, text_template='{metadata_str}\\n\\n{content}', metadata_template='{key}: {value}', metadata_seperator='\\n'),\n",
              " Document(id_='fb61c1ae-901f-436b-81c8-b15ce0e966ee', embedding=None, metadata={'page_label': '25', 'file_name': 'Cricketbook.pdf', 'file_path': '/content/data/Cricketbook.pdf', 'file_type': 'application/pdf', 'file_size': 2149175, 'creation_date': '2024-06-13', 'last_modified_date': '2024-06-13'}, excluded_embed_metadata_keys=['file_name', 'file_type', 'file_size', 'creation_date', 'last_modified_date', 'last_accessed_date'], excluded_llm_metadata_keys=['file_name', 'file_type', 'file_size', 'creation_date', 'last_modified_date', 'last_accessed_date'], relationships={}, text='25\\nUNIT 3\\nTactics and Field Placement\\nIt has not been possible to cover these topics in any detail, and again\\nteachers are referred to more comprehensive texts.\\nIn terms of tactics this section has been sub-divided into key points for\\nconsideration when examining the tactics of the game from the\\nperspective of the bowler and the batsman.\\nTHE BOWLER\\nTactics for Seam Bowlers\\nBowl at the wicket or just outside off stump.When attempting to swing the ball, aim to pitch the ball close to the\\nbatsman to encourage front foot strokes, i.e. bowl a full length.\\nVary length from time to time so that batsman has to think whether to\\nplay forward or back. Bowl the occasional bouncer.\\nEncourage dangerous strokes by leaving gaps in the field and pitching the\\nball so that it is difficult to hit the ball into those gaps.\\nFrustrate batsman by bowling to avoid his favourite strokes, e.g. keep\\nfront foot players on the back foot by bowling shorter length balls.\\nDo not bowl too many variations, e.g. outswinger, inswinger, off cutter,\\nleg cutter. It is difficult to set fields for a great variety of balls. Do vary\\nyour position on the crease.\\nIf one batsman is poor try to bowl at him most of the time by allowing the\\nbetter batsman the opportunity of scoring singles early in the over by\\nsetting the field deeper.\\nTowards the end of an over do not allow the better batsman a single so\\nthat he faces the next over. Bring the field in to stop the single.\\nTactics for Spin Bowlers\\nMuch of the previous section on tactics for seam bowlers applies to spin\\nbowlers with the addition of the following:\\nIt is essential to bowl a good or even fuller length.\\nAlways try to spin the ball even if the pitch appears unresponsive.\\nUse the variations sparingly, e.g. floater, arm ball, etc.\\nVary pace and flight, i.e. release ball earlier to give a high trajectory and\\nlater to give a low trajectory.\\nUse width of crease and change from round the wicket to over wicket or\\nvice versa if necessary.\\nAdjust field to attack defensive batsman and set field to cut off runs for an\\nattacking batsman.\\nIf not successful at one end ask to bowl from the other.\\nTHE BATSMAN\\nTactics for Batsmen\\nBatting in cricket not only involves high levels of physical skill, but also\\njudgemental and decision making skills. The batsman has to make\\ndecisions regarding his reaction to the tactics of the opposition. The\\nspeed of this decision making will be dictated externally, i.e. externallypaced, or influenced by the speed and accuracy of the bowler, the field\\nplacement of the opposition, the stage in the innings, and the stage in the\\nmatch. Often players have to make decisions based on anticipatedoutcomes. In other words, the speed of the ball will be too fast for the\\nhuman visual system to track, and therefore a player must \\npredict  what\\nwill happen and base his/her decision on this judgement. At school levelthe task is easier in terms of the speed of bowlers, but difficult in terms of\\nthe batsman’s experience. The following should act as basic guidelines.', start_char_idx=None, end_char_idx=None, text_template='{metadata_str}\\n\\n{content}', metadata_template='{key}: {value}', metadata_seperator='\\n'),\n",
              " Document(id_='6946dfa6-1e7a-408d-bf2d-9624a9b9bf25', embedding=None, metadata={'page_label': '26', 'file_name': 'Cricketbook.pdf', 'file_path': '/content/data/Cricketbook.pdf', 'file_type': 'application/pdf', 'file_size': 2149175, 'creation_date': '2024-06-13', 'last_modified_date': '2024-06-13'}, excluded_embed_metadata_keys=['file_name', 'file_type', 'file_size', 'creation_date', 'last_modified_date', 'last_accessed_date'], excluded_llm_metadata_keys=['file_name', 'file_type', 'file_size', 'creation_date', 'last_modified_date', 'last_accessed_date'], relationships={}, text='26\\nStroke Selection\\nEarly on, play well pitched up and straight balls between mid-on and mid-\\noff with straight bat strokes.\\nHit bad balls to side that they are swinging or spinning. Do not try to hit\\nthem too hard.\\nIf pitch has variable bounce, do not hook and be on your guard for\\n‘shooters’.\\nPick bat up early, particularly against faster bowlers, so that you have time\\nto come down on the ball.\\nOnly play defensive strokes to balls which will hit the wicket or which\\nwould otherwise hit you.\\nAn additional judgement must be made following stroke production, and\\nthat is how and when to attempt to score runs.\\nScoring Runs\\nCheck the field setting for obvious gaps or fielders set too deep to stop\\nsingles.\\nNote which fielders are left handed, slow movers, poor throwers.\\nBe prepared for quick singles, back up when non-striker and run first and\\nhard.\\nRelax hands when playing defensive strokes so that the ball does not roll\\nfar from the bat. Fielders may now have to remain close to wicket to\\nprevent singles. A firm push may now beat the fielder as he is too close to\\nreact to save the single.\\nIf a fielder is dropped back, do not try to hit the ball over him; aim for the\\ngap he has left or try to hit to another part of the field.\\nIf you are having difficulty scoring off or playing a particular bowler, get\\nyour partner to try to remain facing that bowler as much as possible.\\nAgainst spinners, using the feet to get to the pitch or full toss may help to\\npierce the field.\\nBe patient – sooner or later the bowler will bowl a bad ball.\\nThe tactics of both bowler and batsmen will interact with those of the\\nfielders. It is therefore important that players know how to set fields to\\nsupport the teams’ tactical objectives.\\nField Setting\\nFielders are placed in specific places for two reasons:\\n• To catch an opponent out• To stop the batsman scoring runs\\nThere are three types of fielding positions:\\n• Close catchers – slips, gully, short leg etc.\\n• Fielders saving one run – cover, mid on, square leg etc.\\n• Boundary fielders stopping boundaries – deep third man, deep fine\\nleg, long off etc.\\nOccasionally it may be necessary to place fielders halfway to the\\nboundary, if it is a very long boundary and the well hit ball will not reachthe normally placed boundary fielder. Alternatively a batsman may be\\nknown to hit a ball regularly to the place where the field is sited.', start_char_idx=None, end_char_idx=None, text_template='{metadata_str}\\n\\n{content}', metadata_template='{key}: {value}', metadata_seperator='\\n'),\n",
              " Document(id_='6846aa0d-9680-4fd5-a7b1-8c85ae5c8e18', embedding=None, metadata={'page_label': '27', 'file_name': 'Cricketbook.pdf', 'file_path': '/content/data/Cricketbook.pdf', 'file_type': 'application/pdf', 'file_size': 2149175, 'creation_date': '2024-06-13', 'last_modified_date': '2024-06-13'}, excluded_embed_metadata_keys=['file_name', 'file_type', 'file_size', 'creation_date', 'last_modified_date', 'last_accessed_date'], excluded_llm_metadata_keys=['file_name', 'file_type', 'file_size', 'creation_date', 'last_modified_date', 'last_accessed_date'], relationships={}, text='27\\nGuidelines: The faster the bowler, the faster the pitch, the finer the field is\\nset.\\nThe slower the bowler, the slower the pitch, the straighter and\\nsquarer the field.\\nSet the field so that good balls are played to the fielders.\\nIf the bowler bowls a lot of bad balls, change the bowler not\\nthe field setting.\\nFielders must also be told to move as in Figure 42 below.\\n• Bowler• Mid-Off\\nSilly-Mid-Off\\n•\\nSilly-Point\\n•Short-Extra-Cover\\n•Extra-Cover\\n•\\nCover •\\n•\\nCover Point\\n•\\nShort-Third-Man\\nDeep-Third-Man •\\n• Deep-Fine-Leg• Long-Leg• Deep-Square-Leg• Deep-Mid-Wicket• Long-On•\\nDeep-Mid-On•\\nDeep-Mid-Off•\\nLong-Off\\n•\\nDeep-Extra-Cover\\nMid-On •\\nMid-Wicket\\n•\\nSquare-Leg\\n•Silly-Mid-On\\n•\\nForward-\\nShort-Leg  •\\n•\\nLeg-Slip• Gully\\n• Wicket-Keeper\\n• Third-Slip•\\nSecond-SlipFirst-Slip •\\nMove FinerMove WiderMove Straighter\\nMove Squarer\\nMove Backwards• Backward-\\nShort-Leg\\nFigure 42\\nCloser means move towards the batsman.\\nDeeper means move farther away from the batsman.', start_char_idx=None, end_char_idx=None, text_template='{metadata_str}\\n\\n{content}', metadata_template='{key}: {value}', metadata_seperator='\\n'),\n",
              " Document(id_='088d98d4-a55d-4bb3-ad80-19566363806a', embedding=None, metadata={'page_label': '28', 'file_name': 'Cricketbook.pdf', 'file_path': '/content/data/Cricketbook.pdf', 'file_type': 'application/pdf', 'file_size': 2149175, 'creation_date': '2024-06-13', 'last_modified_date': '2024-06-13'}, excluded_embed_metadata_keys=['file_name', 'file_type', 'file_size', 'creation_date', 'last_modified_date', 'last_accessed_date'], excluded_llm_metadata_keys=['file_name', 'file_type', 'file_size', 'creation_date', 'last_modified_date', 'last_accessed_date'], relationships={}, text='28\\nUNIT 4\\nUmpiring\\nThe umpires are the sole judges of all matters concerning the game\\nonce the toss for innings has been made. They decide whether it is fit\\nor unfit to play, make all decisions regarding the laws and officiallycheck the scores at the end of the game to confirm the result.\\nThe bowling end umpire stands in line with the wickets (see Figure 43)\\nand makes decisions about the placement of the bowler’s feet for the\\nfairness of delivery, LBW etc. He may move up to the wicket or back if\\nrequested by the bowler, but he must be in a position to carry out hisfunction.\\nWhen a run is being taken, the bowling umpire moves to the same\\nside of the pitch as the ball and level with the popping crease, to get inthe best position to give a decision for a run out as in the diagram.\\nThe other umpire usually stands level with the popping crease at\\nsquare leg (see Figure 44). However, if the sun or fielder interfere withhis view he can stand at Point. His principal function is to give\\ndecisions on stumpings, run outs etc. at the strikers end.\\nThe bowling umpire starts the game by calling \\n“Play ”. After six\\nlegitimate balls he calls “Over”;  at the end of play he calls “Time”  and\\nremoves the bails. During the game he gives the following signals tothe scorers to inform them of what is happening. There is no signal\\nfor one or more runs scored from the bat, unless a boundary is\\nscored. No signal will be given if a batsman is not out on appeal butthe umpire will say \\n“Not out”. Umpires communicate their decisions to\\nboth players and spectators through a series of signals (see Table 1).Figure 43 Figure 44Bowling Umpire\\nMoves to here for run out• Ball struck here\\nSquare Leg UmpirePoint', start_char_idx=None, end_char_idx=None, text_template='{metadata_str}\\n\\n{content}', metadata_template='{key}: {value}', metadata_seperator='\\n'),\n",
              " Document(id_='6c097866-271e-4aab-a606-d6b01f7e8b13', embedding=None, metadata={'page_label': '29', 'file_name': 'Cricketbook.pdf', 'file_path': '/content/data/Cricketbook.pdf', 'file_type': 'application/pdf', 'file_size': 2149175, 'creation_date': '2024-06-13', 'last_modified_date': '2024-06-13'}, excluded_embed_metadata_keys=['file_name', 'file_type', 'file_size', 'creation_date', 'last_modified_date', 'last_accessed_date'], excluded_llm_metadata_keys=['file_name', 'file_type', 'file_size', 'creation_date', 'last_modified_date', 'last_accessed_date'], relationships={}, text='29\\nTable 1:  The Umpire Signals\\nNo-Ball Wide Leg-bye\\nBye Six Four. Arm waved.\\nDead Ball also called Out Short Run. The number of runs short to be called.\\nNB the umpire will not allow the game to continue until the scorers\\nhave acknowledged his signal.\\n', start_char_idx=None, end_char_idx=None, text_template='{metadata_str}\\n\\n{content}', metadata_template='{key}: {value}', metadata_seperator='\\n'),\n",
              " Document(id_='4092b597-eb52-4c82-be09-4e3d29f51fb3', embedding=None, metadata={'page_label': '30', 'file_name': 'Cricketbook.pdf', 'file_path': '/content/data/Cricketbook.pdf', 'file_type': 'application/pdf', 'file_size': 2149175, 'creation_date': '2024-06-13', 'last_modified_date': '2024-06-13'}, excluded_embed_metadata_keys=['file_name', 'file_type', 'file_size', 'creation_date', 'last_modified_date', 'last_accessed_date'], excluded_llm_metadata_keys=['file_name', 'file_type', 'file_size', 'creation_date', 'last_modified_date', 'last_accessed_date'], relationships={}, text='30\\nUNIT 5\\nPhysical Conditioning for Cricket\\nThe degree of fitness required to play depends upon the level and type\\nof match played. Generally cricket is played over longer periods of\\ntime than other games; therefore the training has different aspects. Tobe successful it is necessary to have a high skill level, so there must\\nbe a great deal of time spent in skill training.\\nBefore any vigorous activity it is wise to warm up 2/5 minutes’ gentle\\njogging, followed by simple stretching exercises.\\nGeneral Fitness – Aerobic Endurance\\nAny sustained activity, preferably running, which lasts over 20\\nminutes.\\nCross country over different surfaces – sand, shingle, ploughed fields,\\nuphill – very useful.\\nSwimming and cycling may also help.\\nGeneral Fitness – Anaerobic Endurance\\nShort bursts of very high energy expenditure, activity lasting 20-40\\nseconds.\\nShuttle running\\nFielding shuttles\\n10 Paces\\nF\\n10 Paces\\nw/k A B15 Paces\\nw/kF\\nA\\nFielder F runs levels with A to catch thrown ball and returns it to\\nkeeper. F then runs level with B who throws another ball to be caughtand thrown to keeper. Repeat 6 times.A throws ball out. F chases pick up, throws to keeper and returns to\\nstarting point. Repeat 6 times.Examples of fielding shuttles', start_char_idx=None, end_char_idx=None, text_template='{metadata_str}\\n\\n{content}', metadata_template='{key}: {value}', metadata_seperator='\\n'),\n",
              " Document(id_='d7035c19-a934-4e6b-96d7-b9b08c99ba03', embedding=None, metadata={'page_label': '31', 'file_name': 'Cricketbook.pdf', 'file_path': '/content/data/Cricketbook.pdf', 'file_type': 'application/pdf', 'file_size': 2149175, 'creation_date': '2024-06-13', 'last_modified_date': '2024-06-13'}, excluded_embed_metadata_keys=['file_name', 'file_type', 'file_size', 'creation_date', 'last_modified_date', 'last_accessed_date'], excluded_llm_metadata_keys=['file_name', 'file_type', 'file_size', 'creation_date', 'last_modified_date', 'last_accessed_date'], relationships={}, text='31\\nFigure 45a\\nFigure 45b\\nFigure 45c\\nFigure 46General Fitness – Flexibility or Mobility\\nAll players need to have a good range of movement in all joints. When\\nfully warmed up or at the end of physical activity, take each limb and\\njoint to its end position, press and hold for several seconds. Relax andrepeat (see Figures 45 a-c).\\nSpecific Fitness\\nAnalyse each player’s activity to discover what type of training he/she\\nneeds.\\n1. Batsmen – have to be able to run and turn quickly wearing\\nequipment.\\nSuggested Activity :\\nShuttles of 5 runs, 20 yards long wearing full\\nequipment, carrying a bat.\\n– need to have strong wrists.\\nSuggested Activities:\\nWrist rolling, i. e. winding a weight on a stick up\\nand down as quickly as possible.\\nSqueezing grips, squash balls etc.\\n2. Wicketkeepers – have to move from a squatting position very\\nquickly.\\nSuggested Activities:\\nHopping, bounding, skipping etc.\\nShuttle from squatting position to stumps to\\ncatch a ball and then return to squatting start\\nposition before repeating 6 times.\\n– have to be able to dive and catch.\\nSuggested Activity:\\nPractice from squatting position: run five paces to\\nside, dive onto mat turning shoulder underneath.\\nRepeat in opposite direction starting from\\nsquatting position each time (see Figure 46).\\n', start_char_idx=None, end_char_idx=None, text_template='{metadata_str}\\n\\n{content}', metadata_template='{key}: {value}', metadata_seperator='\\n'),\n",
              " Document(id_='120cebf3-8a02-41b5-ab85-a8724193fdb5', embedding=None, metadata={'page_label': '32', 'file_name': 'Cricketbook.pdf', 'file_path': '/content/data/Cricketbook.pdf', 'file_type': 'application/pdf', 'file_size': 2149175, 'creation_date': '2024-06-13', 'last_modified_date': '2024-06-13'}, excluded_embed_metadata_keys=['file_name', 'file_type', 'file_size', 'creation_date', 'last_modified_date', 'last_accessed_date'], excluded_llm_metadata_keys=['file_name', 'file_type', 'file_size', 'creation_date', 'last_modified_date', 'last_accessed_date'], relationships={}, text='32\\n3 . Bowlers – need to be fit, flexible, and strong and have a good\\nrecovery rate.\\nSpecial attention needs to be paid to warm up and\\nstretching to prevent injury, particularly to the groin,back and shoulder.\\nGroin Exercise\\nFeet astride, bend right knee with left leg straight and\\nweight pressing inwards.\\nChange legs (see Figure 47).\\nBack Exercise\\nLie on stomach, hands behind head.\\nRaise chest off ground (see Figure 48).\\nHold a partner in wheelbarrow position; lift him/her in\\nair. Partner helps by pushing up and arching back (see\\nFigure 49).\\nLie on back; bring right knee up, and then swing to left\\nto touch ground with knee (see Figure 50).Figure 47\\nFigure 48\\nFigure 49\\nFigure 50\\n', start_char_idx=None, end_char_idx=None, text_template='{metadata_str}\\n\\n{content}', metadata_template='{key}: {value}', metadata_seperator='\\n'),\n",
              " Document(id_='75120f2d-e907-430a-a9cc-3118f8312c0d', embedding=None, metadata={'page_label': '33', 'file_name': 'Cricketbook.pdf', 'file_path': '/content/data/Cricketbook.pdf', 'file_type': 'application/pdf', 'file_size': 2149175, 'creation_date': '2024-06-13', 'last_modified_date': '2024-06-13'}, excluded_embed_metadata_keys=['file_name', 'file_type', 'file_size', 'creation_date', 'last_modified_date', 'last_accessed_date'], excluded_llm_metadata_keys=['file_name', 'file_type', 'file_size', 'creation_date', 'last_modified_date', 'last_accessed_date'], relationships={}, text='33\\nReturn to lie on back. Bring left knee up and swing to\\nright to touch ground.\\nReturn to start position and repeat (see Figure 51).\\nBowlers should also do shuttles, bounding, hopping skipping etc. to\\nstrengthen legs.\\nShoulder Exercise\\nMobility and strength in the\\nshoulders is essential forbowlers. Arm circles with one\\narm forwards and backwards\\nfollowed by both arms togetherwill maintain mobility (see\\nFigure 52).\\nStanding in pairs, one in bowling\\nposition with arm straight at 45 °\\nto horizontal, attempts to bringhis/her arm down against\\nresistance from partner.\\nUse left and right arms (see\\nFigure 53).Figure 51\\nFigure 52\\nWithin the curriculum, physical conditioning should only be included\\nas part of any lesson, and while it is important that students are fit to\\nplay, the techniques, skills and tactics of the game must take the\\nmajority of time. However, it is important that students understand thetheory underpinning fitness for cricket, and can apply the theory\\nwithin examination and project work.Figure 53\\n', start_char_idx=None, end_char_idx=None, text_template='{metadata_str}\\n\\n{content}', metadata_template='{key}: {value}', metadata_seperator='\\n'),\n",
              " Document(id_='5fa4a816-d88f-49a7-884c-6a2938176e0f', embedding=None, metadata={'page_label': '34', 'file_name': 'Cricketbook.pdf', 'file_path': '/content/data/Cricketbook.pdf', 'file_type': 'application/pdf', 'file_size': 2149175, 'creation_date': '2024-06-13', 'last_modified_date': '2024-06-13'}, excluded_embed_metadata_keys=['file_name', 'file_type', 'file_size', 'creation_date', 'last_modified_date', 'last_accessed_date'], excluded_llm_metadata_keys=['file_name', 'file_type', 'file_size', 'creation_date', 'last_modified_date', 'last_accessed_date'], relationships={}, text='34\\nUNIT 6\\nHistory of Cricket\\nThe origins of cricket are not clearly documented. However, it is clear\\nthat from earliest times people played games which involved strikingan object with a stick. Some of the more interesting or key dates are\\nlisted below. Further details may be obtained by reference to texts\\nincluded in \\nRecommended Reading.\\nEarliest Recordings\\nDate Event or Record\\n1300 Documented evidence that Prince Edward played a\\ngame called Creag.\\n1344 A document in the Bodleian Library illustrates a\\ncricket-like game being played.\\nThe Saxon word “cricce”  or “cric”  (a staff or crooked\\nstick) may be the origin of the name.\\n1500 and 1598 Records at Guildford mention “Creckett”  and refer to\\nplaying “crecket and other plaies” .\\n1611 Chichester Court – two men fined for playing cricket\\non Sunday.\\n1624 The first recorded fatality, when Jasper Vinall died\\nafter having been accidentally struck with a cricket bat.\\n17th century Some evidence that cricket may have been played in\\npublic schools.\\nThe Start of the Modern Game\\n1744 The Laws of the game first written down and printed.\\n1787 The formation of the Marylebone Cricket Club (MCC).\\n1788 The MCC revised the laws.\\n1864 The modern over arm style of bowling was made legal.The game was further developed following improvements to the\\ngrounds as a result of the use of the “heavy roller”. Additionally,\\nbetween 1850-1855 mowing machines were first used.\\nThe latter half of the 19th century was the era of W. G. Grace who,\\nduring his career, made 54,896 runs and took 2,864 wickets. He\\nretired in 1908.\\nThe History of County Cricket\\n1787 The first “county” club, Oxfordshire.1853 The first county champions, Nottinghamshire.\\nNB: At this time the press decided who were the champions.\\n1890 County Secretaries officially acknowledged the\\nchampionships.Test Cricket\\n1736 Sailors recorded as playing cricket near Lisbon.\\n1844 First international between USA and Canada.\\n1859 First tour by England of USA and Canada.\\n1861-62 First tour of Australia.\\n1876-77 First test matches played.\\n1878 Australians travel to England.\\n1880 First test match played in England.1882 England beaten by Australia at the Oval. \\nThe Sporting\\nTimes  reported “The body will be cremated and the\\nashes taken to Australia”.\\n1882-83 England beat Australia in Melbourne. Some ladies\\nburned a bail, sealed the ashes in an urn and gave it to\\nthe English Captain. On his death the ashes were leftto the MCC, and this is the basis of the \\nAshes\\ncompetition.\\n1909 Imperial Cricket Conference established to administer\\ncricket worldwide.\\n1965 The name was changed to the International Cricket\\nConference.\\n1968 The Test and County Cricket Board was established to\\nrun test cricket, and the National Cricket Association tofoster interest in coaching and the recreational game.\\nThe MCC administer the Laws both at home and abroad.\\nAll three of the above form the Cricket Council, the governing body of\\nthe sport. There are also the Minor Counties Association, the Irish\\nCricket Union, the Scottish Cricket Union and the Welsh Cricket\\nAssociation.\\n1989 The International Cricket Conference renamed the\\nInternational Cricket Council.\\n1992 South Africa re-admited to international cricket.', start_char_idx=None, end_char_idx=None, text_template='{metadata_str}\\n\\n{content}', metadata_template='{key}: {value}', metadata_seperator='\\n'),\n",
              " Document(id_='036bd948-7b5f-44f2-9123-f59e625b9f74', embedding=None, metadata={'page_label': '35', 'file_name': 'Cricketbook.pdf', 'file_path': '/content/data/Cricketbook.pdf', 'file_type': 'application/pdf', 'file_size': 2149175, 'creation_date': '2024-06-13', 'last_modified_date': '2024-06-13'}, excluded_embed_metadata_keys=['file_name', 'file_type', 'file_size', 'creation_date', 'last_modified_date', 'last_accessed_date'], excluded_llm_metadata_keys=['file_name', 'file_type', 'file_size', 'creation_date', 'last_modified_date', 'last_accessed_date'], relationships={}, text='35\\nUNIT 7\\nThe Competitive Structure of the Sport.\\nThe First Class Game\\nThe professional game in Great Britain is run in the form of a league.\\nEighteen counties play a mixture of sixteen 3-day and six 4-day\\nmatches regulated by the Test and County Cricket Board. This league\\nis known as the Britannic Assurance County Championship,  named\\nafter the present sponsors.\\nThe number of counties remained constant since Glamorgan became\\na member in 1921 until 1991. Durham became the eighteenthmember in 1992. Unlike football, there is no specific number of teams\\nwhich should be in the league. The reason other counties, known as\\nthe Minor Counties, have not become members is the cost of settingup and running a team. A small county such as Worcestershire spent\\nnearly £900,000 on running theirs in 1989. An additional expensive\\nproblem is the provision of a suitable ground together with thefacilities required for spectators.\\nBecause gates declined in the late fifties, limited-over cricket started\\nin 1963 with the \\nGillette Cup  competition of 65 overs per side. This\\nwas an instant financial success and was followed by the John Player\\nLeague,  40-over matches which commenced on Sunday afternoons in\\n1969. This was a league competition, the teams playing each otheronce.\\nThe next competition was \\nBenson and Hedges, a 55-over game which\\nwas played initially as a regional league with the top two teams going\\nforward into a knock out competition.\\nOver the years the sponsors have changed. The Gillette Cup is now a\\n60-over competition for the Nat West Trophy;  the John Player\\ncompetition became the Refuge Assurance League and is now\\nawaiting a new sponsor.\\nThe international scene has been affected in the same way, with three\\nOne-Day test matches played in addition to five or six, 5-day Test\\nMatches played against touring teams. Texaco sponsor the One-Daymatches and Cornhill Insurance the 5-day matches.\\nThe Test Matches are staged at Birmingham, Leeds, London,\\nManchester and Nottingham. There is no national stadium such asWembley for football. The nearest equivalent is Lord’s, owned by\\nMCC and the home ground of Middlesex.Recreational Cricket\\nRecreational or non-professional cricket is organised by the National\\nCricket Association.\\nIt has a professional staff at Lord’s and several National Coaches\\nbased in the regions who are responsible for the development of playat all levels, together with the training of coaches. To assist individual\\nclubs, there are part-time development officers who try to stimulate\\ninterest in coaching, youth development and NCA projects.\\nClubs who join NCA can take part in competitions indoors and\\noutdoors. Individual members may be nominated to play for other\\ncounty associations in the \\nNCA County Championship  sponsored by\\nNotts Sport Limited. Outstanding players are invited to play in the NCA\\nEngland Amateur Eleven.\\nMany clubs run youth teams which enter competitions for various age\\ngroups, such as the U13 eight-a-side competition for the Nat West\\nBank Ken Barrington Cup.  An U15 competition is for the Sun Life of\\nCanada Club Cricket Championship.  Texaco sponsor the U16 County\\nChampionship which is contested by the best players selected for\\nindividual county association. Schools cricket is organised by the\\nEnglish Schools Cricket Association and there is a good liaisonbetween them and the NCA.\\nLeague cricket is organised by each individual league which has its\\nown rules for membership, playing regulations, discipline etc.\\nThe Minor Counties Cricket Association was formed in 1895 to look\\nafter and promote their interests. A minor county is one that does notplay in the First Class Championship. Usually they play 2-day 2-\\ninnings matches as well as taking part in the \\nNat West Knock-out\\nCompetition.\\nThe Women’s Cricket Association is organised on either a county or a\\nregional area basis, depending on the strength of the game in the\\nspecific area.', start_char_idx=None, end_char_idx=None, text_template='{metadata_str}\\n\\n{content}', metadata_template='{key}: {value}', metadata_seperator='\\n'),\n",
              " Document(id_='dff0165e-d4c7-4c8c-a049-38910e5a45db', embedding=None, metadata={'page_label': '36', 'file_name': 'Cricketbook.pdf', 'file_path': '/content/data/Cricketbook.pdf', 'file_type': 'application/pdf', 'file_size': 2149175, 'creation_date': '2024-06-13', 'last_modified_date': '2024-06-13'}, excluded_embed_metadata_keys=['file_name', 'file_type', 'file_size', 'creation_date', 'last_modified_date', 'last_accessed_date'], excluded_llm_metadata_keys=['file_name', 'file_type', 'file_size', 'creation_date', 'last_modified_date', 'last_accessed_date'], relationships={}, text='36\\nUNIT 8\\nUseful Information\\nRecommended reading\\nThe Handbook of Cricket, K. V. Andrew ISBN 0 7207 1789 I\\nThe Skills of Cricket, K. V. Andrew ISBN 1 85223 237 4\\nCricket – The Techniques of the Game, Andrew, Carter, Lenham\\nISBN 0 7158 0574 6 or ISBN 0 7158 0642 4\\nA History of Cricket, B. Green ISBN 0 7126 2080 X\\nThe MCC Cricket Coaching Book (Fourth Edition)\\nWisden Cricketers’ Almanack (Printed Annually)\\nTest Cricket in Clubs and Schools (Available from NCA)\\nHow to Coach Cricket, R. Dellor\\nISBN 0 00 218 319 6 or ISBN 0 00 218 369 2\\nGames for Cricket Training, A. Oakman ISBN 0 7207 1233 8\\nThe Laws of Cricket (1980 Code) Second Edition 1992.\\n(Available from MCC, price £1.50)\\nUseful addresses\\nE.C.B\\nLord’s Cricket GroundLondon\\nNW8 8QZ\\nTelephone 0207 432 1200\\nCoach Education Officec/o Warwickshire County Cricket Ground\\nEdgbaston\\nBirmingham\\nB5 7QXTelephone 0121 440 1748', start_char_idx=None, end_char_idx=None, text_template='{metadata_str}\\n\\n{content}', metadata_template='{key}: {value}', metadata_seperator='\\n')]"
            ]
          },
          "metadata": {},
          "execution_count": 2
        }
      ]
    },
    {
      "cell_type": "code",
      "source": [
        "system_prompt=\"\"\"\n",
        "You are a Q&A assistant. Your goal is to answer questions as\n",
        "accurately as possible based on the instructions and context provided.\n",
        "\"\"\"\n",
        "## Default format supportable by LLama2\n",
        "query_wrapper_prompt=SimpleInputPrompt(\"<|USER|>{query_str}<|ASSISTANT|>\")"
      ],
      "metadata": {
        "id": "Ia4aVl0Q-x7Q"
      },
      "execution_count": null,
      "outputs": []
    },
    {
      "cell_type": "code",
      "source": [
        "!huggingface-cli login"
      ],
      "metadata": {
        "colab": {
          "base_uri": "https://localhost:8080/"
        },
        "id": "RDU2rS-D-38n",
        "outputId": "cc29fa74-84a5-4b47-926f-8188490ca83e"
      },
      "execution_count": null,
      "outputs": [
        {
          "output_type": "stream",
          "name": "stdout",
          "text": [
            "\n",
            "    _|    _|  _|    _|    _|_|_|    _|_|_|  _|_|_|  _|      _|    _|_|_|      _|_|_|_|    _|_|      _|_|_|  _|_|_|_|\n",
            "    _|    _|  _|    _|  _|        _|          _|    _|_|    _|  _|            _|        _|    _|  _|        _|\n",
            "    _|_|_|_|  _|    _|  _|  _|_|  _|  _|_|    _|    _|  _|  _|  _|  _|_|      _|_|_|    _|_|_|_|  _|        _|_|_|\n",
            "    _|    _|  _|    _|  _|    _|  _|    _|    _|    _|    _|_|  _|    _|      _|        _|    _|  _|        _|\n",
            "    _|    _|    _|_|      _|_|_|    _|_|_|  _|_|_|  _|      _|    _|_|_|      _|        _|    _|    _|_|_|  _|_|_|_|\n",
            "\n",
            "    A token is already saved on your machine. Run `huggingface-cli whoami` to get more information or `huggingface-cli logout` if you want to log out.\n",
            "    Setting a new token will erase the existing one.\n",
            "    To login, `huggingface_hub` requires a token generated from https://huggingface.co/settings/tokens .\n",
            "Enter your token (input will not be visible): \n",
            "Add token as git credential? (Y/n) n\n",
            "Token is valid (permission: read).\n",
            "Your token has been saved to /root/.cache/huggingface/token\n",
            "Login successful\n"
          ]
        }
      ]
    },
    {
      "cell_type": "code",
      "source": [
        "import torch\n",
        "\n",
        "llm = HuggingFaceLLM(\n",
        "    context_window=4096,\n",
        "    max_new_tokens=256,\n",
        "    generate_kwargs={\"temperature\": 0.0, \"do_sample\": False},\n",
        "    system_prompt=system_prompt,\n",
        "    query_wrapper_prompt=query_wrapper_prompt,\n",
        "    tokenizer_name=\"meta-llama/Llama-2-7b-chat-hf\",\n",
        "    model_name=\"meta-llama/Llama-2-7b-chat-hf\",\n",
        "    device_map=\"auto\",\n",
        "    # uncomment this if using CUDA to reduce memory usage\n",
        "    model_kwargs={\"torch_dtype\": torch.float16 , \"load_in_8bit\":True}\n",
        ")\n"
      ],
      "metadata": {
        "colab": {
          "base_uri": "https://localhost:8080/",
          "height": 190,
          "referenced_widgets": [
            "c9f8a28e669d42afaeb3dfead7354694",
            "c7be2c3df7c44c7c82026b542b28555e",
            "93e6713298784daf9dcc3b490c181b7f",
            "4864aabd715147909bc5ad5b413e22b6",
            "72bc289386a14851a5c7c4bcc6d577c3",
            "352b5744fc2945e1b4689414c9ed5d2e",
            "1ce9efd6f2fe48ccb6dc285939dadddb",
            "fa43bffc24184c70ab7c1a50d9e57e25",
            "69920eb292d44fc4aefb6d75246b9a5c",
            "c2ce591124e248b488efeb2670725b8a",
            "0861402c4eb24f22a5228f0950a844ac"
          ]
        },
        "id": "2WZKltQs-6bO",
        "outputId": "bd4c8484-7c7d-43d7-e2bf-e38e5154b47b"
      },
      "execution_count": null,
      "outputs": [
        {
          "metadata": {
            "tags": null
          },
          "name": "stderr",
          "output_type": "stream",
          "text": [
            "/usr/local/lib/python3.10/dist-packages/huggingface_hub/utils/_token.py:89: UserWarning: \n",
            "The secret `HF_TOKEN` does not exist in your Colab secrets.\n",
            "To authenticate with the Hugging Face Hub, create a token in your settings tab (https://huggingface.co/settings/tokens), set it as secret in your Google Colab and restart your session.\n",
            "You will be able to reuse this secret in all of your notebooks.\n",
            "Please note that authentication is recommended but still optional to access public models or datasets.\n",
            "  warnings.warn(\n",
            "The `load_in_4bit` and `load_in_8bit` arguments are deprecated and will be removed in the future versions. Please, pass a `BitsAndBytesConfig` object in `quantization_config` argument instead.\n"
          ]
        },
        {
          "data": {
            "application/vnd.jupyter.widget-view+json": {
              "model_id": "c9f8a28e669d42afaeb3dfead7354694",
              "version_major": 2,
              "version_minor": 0
            },
            "text/plain": [
              "Loading checkpoint shards:   0%|          | 0/2 [00:00<?, ?it/s]"
            ]
          },
          "metadata": {},
          "output_type": "display_data"
        }
      ]
    },
    {
      "cell_type": "code",
      "source": [
        "from langchain.embeddings.huggingface import HuggingFaceEmbeddings\n",
        "from llama_index.core import ServiceContext\n",
        "from llama_index.legacy.embeddings.langchain import LangchainEmbedding\n",
        "\n",
        "embed_model=LangchainEmbedding(\n",
        "    HuggingFaceEmbeddings(model_name=\"sentence-transformers/all-mpnet-base-v2\"))"
      ],
      "metadata": {
        "colab": {
          "base_uri": "https://localhost:8080/"
        },
        "id": "rJ50HXh---zF",
        "outputId": "9665b256-24df-408b-8fee-f7773ede5acd"
      },
      "execution_count": null,
      "outputs": [
        {
          "output_type": "stream",
          "name": "stderr",
          "text": [
            "/usr/local/lib/python3.10/dist-packages/langchain_core/_api/deprecation.py:119: LangChainDeprecationWarning: The class `HuggingFaceEmbeddings` was deprecated in LangChain 0.2.2 and will be removed in 0.3.0. An updated version of the class exists in the langchain-huggingface package and should be used instead. To use it run `pip install -U langchain-huggingface` and import as `from langchain_huggingface import HuggingFaceEmbeddings`.\n",
            "  warn_deprecated(\n",
            "/usr/local/lib/python3.10/dist-packages/huggingface_hub/file_download.py:1132: FutureWarning: `resume_download` is deprecated and will be removed in version 1.0.0. Downloads always resume when possible. If you want to force a new download, use `force_download=True`.\n",
            "  warnings.warn(\n"
          ]
        }
      ]
    },
    {
      "cell_type": "code",
      "source": [
        "pip install sentence-transformers"
      ],
      "metadata": {
        "colab": {
          "base_uri": "https://localhost:8080/"
        },
        "id": "Ci3pxXmj_BaA",
        "outputId": "8f71ff36-9b73-4af9-8042-acaf525b989e"
      },
      "execution_count": null,
      "outputs": [
        {
          "output_type": "stream",
          "name": "stdout",
          "text": [
            "Collecting sentence-transformers\n",
            "  Downloading sentence_transformers-3.0.1-py3-none-any.whl (227 kB)\n",
            "\u001b[?25l     \u001b[90m━━━━━━━━━━━━━━━━━━━━━━━━━━━━━━━━━━━━━━━━\u001b[0m \u001b[32m0.0/227.1 kB\u001b[0m \u001b[31m?\u001b[0m eta \u001b[36m-:--:--\u001b[0m\r\u001b[2K     \u001b[91m━━━━━━━━━━━━━━━━━━━━━━━━━━━━━━━━━━━━━━━\u001b[0m\u001b[91m╸\u001b[0m \u001b[32m225.3/227.1 kB\u001b[0m \u001b[31m6.8 MB/s\u001b[0m eta \u001b[36m0:00:01\u001b[0m\r\u001b[2K     \u001b[90m━━━━━━━━━━━━━━━━━━━━━━━━━━━━━━━━━━━━━━━━\u001b[0m \u001b[32m227.1/227.1 kB\u001b[0m \u001b[31m5.7 MB/s\u001b[0m eta \u001b[36m0:00:00\u001b[0m\n",
            "\u001b[?25hRequirement already satisfied: transformers<5.0.0,>=4.34.0 in /usr/local/lib/python3.10/dist-packages (from sentence-transformers) (4.41.2)\n",
            "Requirement already satisfied: tqdm in /usr/local/lib/python3.10/dist-packages (from sentence-transformers) (4.66.4)\n",
            "Requirement already satisfied: torch>=1.11.0 in /usr/local/lib/python3.10/dist-packages (from sentence-transformers) (2.3.0+cu121)\n",
            "Requirement already satisfied: numpy in /usr/local/lib/python3.10/dist-packages (from sentence-transformers) (1.25.2)\n",
            "Requirement already satisfied: scikit-learn in /usr/local/lib/python3.10/dist-packages (from sentence-transformers) (1.2.2)\n",
            "Requirement already satisfied: scipy in /usr/local/lib/python3.10/dist-packages (from sentence-transformers) (1.11.4)\n",
            "Requirement already satisfied: huggingface-hub>=0.15.1 in /usr/local/lib/python3.10/dist-packages (from sentence-transformers) (0.23.3)\n",
            "Requirement already satisfied: Pillow in /usr/local/lib/python3.10/dist-packages (from sentence-transformers) (9.4.0)\n",
            "Requirement already satisfied: filelock in /usr/local/lib/python3.10/dist-packages (from huggingface-hub>=0.15.1->sentence-transformers) (3.14.0)\n",
            "Requirement already satisfied: fsspec>=2023.5.0 in /usr/local/lib/python3.10/dist-packages (from huggingface-hub>=0.15.1->sentence-transformers) (2023.6.0)\n",
            "Requirement already satisfied: packaging>=20.9 in /usr/local/lib/python3.10/dist-packages (from huggingface-hub>=0.15.1->sentence-transformers) (23.2)\n",
            "Requirement already satisfied: pyyaml>=5.1 in /usr/local/lib/python3.10/dist-packages (from huggingface-hub>=0.15.1->sentence-transformers) (6.0.1)\n",
            "Requirement already satisfied: requests in /usr/local/lib/python3.10/dist-packages (from huggingface-hub>=0.15.1->sentence-transformers) (2.31.0)\n",
            "Requirement already satisfied: typing-extensions>=3.7.4.3 in /usr/local/lib/python3.10/dist-packages (from huggingface-hub>=0.15.1->sentence-transformers) (4.12.2)\n",
            "Requirement already satisfied: sympy in /usr/local/lib/python3.10/dist-packages (from torch>=1.11.0->sentence-transformers) (1.12.1)\n",
            "Requirement already satisfied: networkx in /usr/local/lib/python3.10/dist-packages (from torch>=1.11.0->sentence-transformers) (3.3)\n",
            "Requirement already satisfied: jinja2 in /usr/local/lib/python3.10/dist-packages (from torch>=1.11.0->sentence-transformers) (3.1.4)\n",
            "Requirement already satisfied: nvidia-cuda-nvrtc-cu12==12.1.105 in /usr/local/lib/python3.10/dist-packages (from torch>=1.11.0->sentence-transformers) (12.1.105)\n",
            "Requirement already satisfied: nvidia-cuda-runtime-cu12==12.1.105 in /usr/local/lib/python3.10/dist-packages (from torch>=1.11.0->sentence-transformers) (12.1.105)\n",
            "Requirement already satisfied: nvidia-cuda-cupti-cu12==12.1.105 in /usr/local/lib/python3.10/dist-packages (from torch>=1.11.0->sentence-transformers) (12.1.105)\n",
            "Requirement already satisfied: nvidia-cudnn-cu12==8.9.2.26 in /usr/local/lib/python3.10/dist-packages (from torch>=1.11.0->sentence-transformers) (8.9.2.26)\n",
            "Requirement already satisfied: nvidia-cublas-cu12==12.1.3.1 in /usr/local/lib/python3.10/dist-packages (from torch>=1.11.0->sentence-transformers) (12.1.3.1)\n",
            "Requirement already satisfied: nvidia-cufft-cu12==11.0.2.54 in /usr/local/lib/python3.10/dist-packages (from torch>=1.11.0->sentence-transformers) (11.0.2.54)\n",
            "Requirement already satisfied: nvidia-curand-cu12==10.3.2.106 in /usr/local/lib/python3.10/dist-packages (from torch>=1.11.0->sentence-transformers) (10.3.2.106)\n",
            "Requirement already satisfied: nvidia-cusolver-cu12==11.4.5.107 in /usr/local/lib/python3.10/dist-packages (from torch>=1.11.0->sentence-transformers) (11.4.5.107)\n",
            "Requirement already satisfied: nvidia-cusparse-cu12==12.1.0.106 in /usr/local/lib/python3.10/dist-packages (from torch>=1.11.0->sentence-transformers) (12.1.0.106)\n",
            "Requirement already satisfied: nvidia-nccl-cu12==2.20.5 in /usr/local/lib/python3.10/dist-packages (from torch>=1.11.0->sentence-transformers) (2.20.5)\n",
            "Requirement already satisfied: nvidia-nvtx-cu12==12.1.105 in /usr/local/lib/python3.10/dist-packages (from torch>=1.11.0->sentence-transformers) (12.1.105)\n",
            "Requirement already satisfied: triton==2.3.0 in /usr/local/lib/python3.10/dist-packages (from torch>=1.11.0->sentence-transformers) (2.3.0)\n",
            "Requirement already satisfied: nvidia-nvjitlink-cu12 in /usr/local/lib/python3.10/dist-packages (from nvidia-cusolver-cu12==11.4.5.107->torch>=1.11.0->sentence-transformers) (12.5.40)\n",
            "Requirement already satisfied: regex!=2019.12.17 in /usr/local/lib/python3.10/dist-packages (from transformers<5.0.0,>=4.34.0->sentence-transformers) (2024.5.15)\n",
            "Requirement already satisfied: tokenizers<0.20,>=0.19 in /usr/local/lib/python3.10/dist-packages (from transformers<5.0.0,>=4.34.0->sentence-transformers) (0.19.1)\n",
            "Requirement already satisfied: safetensors>=0.4.1 in /usr/local/lib/python3.10/dist-packages (from transformers<5.0.0,>=4.34.0->sentence-transformers) (0.4.3)\n",
            "Requirement already satisfied: joblib>=1.1.1 in /usr/local/lib/python3.10/dist-packages (from scikit-learn->sentence-transformers) (1.4.2)\n",
            "Requirement already satisfied: threadpoolctl>=2.0.0 in /usr/local/lib/python3.10/dist-packages (from scikit-learn->sentence-transformers) (3.5.0)\n",
            "Requirement already satisfied: MarkupSafe>=2.0 in /usr/local/lib/python3.10/dist-packages (from jinja2->torch>=1.11.0->sentence-transformers) (2.1.5)\n",
            "Requirement already satisfied: charset-normalizer<4,>=2 in /usr/local/lib/python3.10/dist-packages (from requests->huggingface-hub>=0.15.1->sentence-transformers) (3.3.2)\n",
            "Requirement already satisfied: idna<4,>=2.5 in /usr/local/lib/python3.10/dist-packages (from requests->huggingface-hub>=0.15.1->sentence-transformers) (3.7)\n",
            "Requirement already satisfied: urllib3<3,>=1.21.1 in /usr/local/lib/python3.10/dist-packages (from requests->huggingface-hub>=0.15.1->sentence-transformers) (2.0.7)\n",
            "Requirement already satisfied: certifi>=2017.4.17 in /usr/local/lib/python3.10/dist-packages (from requests->huggingface-hub>=0.15.1->sentence-transformers) (2024.6.2)\n",
            "Requirement already satisfied: mpmath<1.4.0,>=1.1.0 in /usr/local/lib/python3.10/dist-packages (from sympy->torch>=1.11.0->sentence-transformers) (1.3.0)\n",
            "Installing collected packages: sentence-transformers\n",
            "Successfully installed sentence-transformers-3.0.1\n"
          ]
        }
      ]
    },
    {
      "cell_type": "code",
      "source": [
        "!pip install -U langchain-community"
      ],
      "metadata": {
        "colab": {
          "base_uri": "https://localhost:8080/"
        },
        "id": "WwmJfzM8_DtY",
        "outputId": "6ad9686b-9c02-4c0c-a0a1-cd76faec17b1"
      },
      "execution_count": null,
      "outputs": [
        {
          "output_type": "stream",
          "name": "stdout",
          "text": [
            "Collecting langchain-community\n",
            "  Downloading langchain_community-0.2.4-py3-none-any.whl (2.2 MB)\n",
            "\u001b[2K     \u001b[90m━━━━━━━━━━━━━━━━━━━━━━━━━━━━━━━━━━━━━━━━\u001b[0m \u001b[32m2.2/2.2 MB\u001b[0m \u001b[31m12.0 MB/s\u001b[0m eta \u001b[36m0:00:00\u001b[0m\n",
            "\u001b[?25hRequirement already satisfied: PyYAML>=5.3 in /usr/local/lib/python3.10/dist-packages (from langchain-community) (6.0.1)\n",
            "Requirement already satisfied: SQLAlchemy<3,>=1.4 in /usr/local/lib/python3.10/dist-packages (from langchain-community) (2.0.30)\n",
            "Requirement already satisfied: aiohttp<4.0.0,>=3.8.3 in /usr/local/lib/python3.10/dist-packages (from langchain-community) (3.9.5)\n",
            "Requirement already satisfied: dataclasses-json<0.7,>=0.5.7 in /usr/local/lib/python3.10/dist-packages (from langchain-community) (0.6.7)\n",
            "Requirement already satisfied: langchain<0.3.0,>=0.2.0 in /usr/local/lib/python3.10/dist-packages (from langchain-community) (0.2.3)\n",
            "Requirement already satisfied: langchain-core<0.3.0,>=0.2.0 in /usr/local/lib/python3.10/dist-packages (from langchain-community) (0.2.5)\n",
            "Requirement already satisfied: langsmith<0.2.0,>=0.1.0 in /usr/local/lib/python3.10/dist-packages (from langchain-community) (0.1.77)\n",
            "Requirement already satisfied: numpy<2,>=1 in /usr/local/lib/python3.10/dist-packages (from langchain-community) (1.25.2)\n",
            "Requirement already satisfied: requests<3,>=2 in /usr/local/lib/python3.10/dist-packages (from langchain-community) (2.31.0)\n",
            "Requirement already satisfied: tenacity<9.0.0,>=8.1.0 in /usr/local/lib/python3.10/dist-packages (from langchain-community) (8.3.0)\n",
            "Requirement already satisfied: aiosignal>=1.1.2 in /usr/local/lib/python3.10/dist-packages (from aiohttp<4.0.0,>=3.8.3->langchain-community) (1.3.1)\n",
            "Requirement already satisfied: attrs>=17.3.0 in /usr/local/lib/python3.10/dist-packages (from aiohttp<4.0.0,>=3.8.3->langchain-community) (23.2.0)\n",
            "Requirement already satisfied: frozenlist>=1.1.1 in /usr/local/lib/python3.10/dist-packages (from aiohttp<4.0.0,>=3.8.3->langchain-community) (1.4.1)\n",
            "Requirement already satisfied: multidict<7.0,>=4.5 in /usr/local/lib/python3.10/dist-packages (from aiohttp<4.0.0,>=3.8.3->langchain-community) (6.0.5)\n",
            "Requirement already satisfied: yarl<2.0,>=1.0 in /usr/local/lib/python3.10/dist-packages (from aiohttp<4.0.0,>=3.8.3->langchain-community) (1.9.4)\n",
            "Requirement already satisfied: async-timeout<5.0,>=4.0 in /usr/local/lib/python3.10/dist-packages (from aiohttp<4.0.0,>=3.8.3->langchain-community) (4.0.3)\n",
            "Requirement already satisfied: marshmallow<4.0.0,>=3.18.0 in /usr/local/lib/python3.10/dist-packages (from dataclasses-json<0.7,>=0.5.7->langchain-community) (3.21.3)\n",
            "Requirement already satisfied: typing-inspect<1,>=0.4.0 in /usr/local/lib/python3.10/dist-packages (from dataclasses-json<0.7,>=0.5.7->langchain-community) (0.9.0)\n",
            "Requirement already satisfied: langchain-text-splitters<0.3.0,>=0.2.0 in /usr/local/lib/python3.10/dist-packages (from langchain<0.3.0,>=0.2.0->langchain-community) (0.2.1)\n",
            "Requirement already satisfied: pydantic<3,>=1 in /usr/local/lib/python3.10/dist-packages (from langchain<0.3.0,>=0.2.0->langchain-community) (2.7.3)\n",
            "Requirement already satisfied: jsonpatch<2.0,>=1.33 in /usr/local/lib/python3.10/dist-packages (from langchain-core<0.3.0,>=0.2.0->langchain-community) (1.33)\n",
            "Requirement already satisfied: packaging<24.0,>=23.2 in /usr/local/lib/python3.10/dist-packages (from langchain-core<0.3.0,>=0.2.0->langchain-community) (23.2)\n",
            "Requirement already satisfied: orjson<4.0.0,>=3.9.14 in /usr/local/lib/python3.10/dist-packages (from langsmith<0.2.0,>=0.1.0->langchain-community) (3.10.4)\n",
            "Requirement already satisfied: charset-normalizer<4,>=2 in /usr/local/lib/python3.10/dist-packages (from requests<3,>=2->langchain-community) (3.3.2)\n",
            "Requirement already satisfied: idna<4,>=2.5 in /usr/local/lib/python3.10/dist-packages (from requests<3,>=2->langchain-community) (3.7)\n",
            "Requirement already satisfied: urllib3<3,>=1.21.1 in /usr/local/lib/python3.10/dist-packages (from requests<3,>=2->langchain-community) (2.0.7)\n",
            "Requirement already satisfied: certifi>=2017.4.17 in /usr/local/lib/python3.10/dist-packages (from requests<3,>=2->langchain-community) (2024.6.2)\n",
            "Requirement already satisfied: typing-extensions>=4.6.0 in /usr/local/lib/python3.10/dist-packages (from SQLAlchemy<3,>=1.4->langchain-community) (4.12.2)\n",
            "Requirement already satisfied: greenlet!=0.4.17 in /usr/local/lib/python3.10/dist-packages (from SQLAlchemy<3,>=1.4->langchain-community) (3.0.3)\n",
            "Requirement already satisfied: jsonpointer>=1.9 in /usr/local/lib/python3.10/dist-packages (from jsonpatch<2.0,>=1.33->langchain-core<0.3.0,>=0.2.0->langchain-community) (3.0.0)\n",
            "Requirement already satisfied: annotated-types>=0.4.0 in /usr/local/lib/python3.10/dist-packages (from pydantic<3,>=1->langchain<0.3.0,>=0.2.0->langchain-community) (0.7.0)\n",
            "Requirement already satisfied: pydantic-core==2.18.4 in /usr/local/lib/python3.10/dist-packages (from pydantic<3,>=1->langchain<0.3.0,>=0.2.0->langchain-community) (2.18.4)\n",
            "Requirement already satisfied: mypy-extensions>=0.3.0 in /usr/local/lib/python3.10/dist-packages (from typing-inspect<1,>=0.4.0->dataclasses-json<0.7,>=0.5.7->langchain-community) (1.0.0)\n",
            "Installing collected packages: langchain-community\n",
            "Successfully installed langchain-community-0.2.4\n"
          ]
        }
      ]
    },
    {
      "cell_type": "code",
      "source": [
        "service_context=ServiceContext.from_defaults(\n",
        "    chunk_size=1024,\n",
        "    llm=llm,\n",
        "    embed_model=embed_model,\n",
        "\n",
        ")\n"
      ],
      "metadata": {
        "colab": {
          "base_uri": "https://localhost:8080/"
        },
        "id": "Z5Kw8vdHANzd",
        "outputId": "dbbd243c-e7fb-4f50-f299-e4e25c4e2392"
      },
      "execution_count": null,
      "outputs": [
        {
          "output_type": "stream",
          "name": "stderr",
          "text": [
            "<ipython-input-7-be1c5b498800>:1: DeprecationWarning: Call to deprecated class method from_defaults. (ServiceContext is deprecated, please use `llama_index.settings.Settings` instead.) -- Deprecated since version 0.10.0.\n",
            "  service_context=ServiceContext.from_defaults(\n"
          ]
        }
      ]
    },
    {
      "cell_type": "code",
      "source": [
        "service_context"
      ],
      "metadata": {
        "colab": {
          "base_uri": "https://localhost:8080/"
        },
        "id": "kvMOdpO2APIG",
        "outputId": "fe8bd43c-e24a-4808-e43b-cfd2c40a5f30"
      },
      "execution_count": null,
      "outputs": [
        {
          "output_type": "execute_result",
          "data": {
            "text/plain": [
              "ServiceContext(llm_predictor=LLMPredictor(system_prompt=None, query_wrapper_prompt=None, pydantic_program_mode=<PydanticProgramMode.DEFAULT: 'default'>), prompt_helper=PromptHelper(context_window=4096, num_output=256, chunk_overlap_ratio=0.1, chunk_size_limit=None, separator=' '), embed_model=LangchainEmbedding(model_name='sentence-transformers/all-mpnet-base-v2', embed_batch_size=10, callback_manager=<llama_index.core.callbacks.base.CallbackManager object at 0x7a5af43966e0>), transformations=[SentenceSplitter(include_metadata=True, include_prev_next_rel=True, callback_manager=<llama_index.core.callbacks.base.CallbackManager object at 0x7a5af43966e0>, id_func=<function default_id_func at 0x7a5c4ec62560>, chunk_size=1024, chunk_overlap=200, separator=' ', paragraph_separator='\\n\\n\\n', secondary_chunking_regex='[^,.;。？！]+[,.;。？！]?')], llama_logger=<llama_index.core.service_context_elements.llama_logger.LlamaLogger object at 0x7a5b041eb250>, callback_manager=<llama_index.core.callbacks.base.CallbackManager object at 0x7a5af43966e0>)"
            ]
          },
          "metadata": {},
          "execution_count": 14
        }
      ]
    },
    {
      "cell_type": "code",
      "source": [
        "!pip install --upgrade llama-index"
      ],
      "metadata": {
        "colab": {
          "base_uri": "https://localhost:8080/"
        },
        "id": "MtyYM9hsDi_U",
        "outputId": "4d14432b-81e7-40e8-db3c-8c813511af44"
      },
      "execution_count": null,
      "outputs": [
        {
          "output_type": "stream",
          "name": "stdout",
          "text": [
            "Requirement already satisfied: llama-index in /usr/local/lib/python3.10/dist-packages (0.10.43)\n",
            "Requirement already satisfied: llama-index-agent-openai<0.3.0,>=0.1.4 in /usr/local/lib/python3.10/dist-packages (from llama-index) (0.2.7)\n",
            "Requirement already satisfied: llama-index-cli<0.2.0,>=0.1.2 in /usr/local/lib/python3.10/dist-packages (from llama-index) (0.1.12)\n",
            "Requirement already satisfied: llama-index-core==0.10.43 in /usr/local/lib/python3.10/dist-packages (from llama-index) (0.10.43)\n",
            "Requirement already satisfied: llama-index-embeddings-openai<0.2.0,>=0.1.5 in /usr/local/lib/python3.10/dist-packages (from llama-index) (0.1.10)\n",
            "Requirement already satisfied: llama-index-indices-managed-llama-cloud<0.2.0,>=0.1.2 in /usr/local/lib/python3.10/dist-packages (from llama-index) (0.1.6)\n",
            "Requirement already satisfied: llama-index-legacy<0.10.0,>=0.9.48 in /usr/local/lib/python3.10/dist-packages (from llama-index) (0.9.48)\n",
            "Requirement already satisfied: llama-index-llms-openai<0.2.0,>=0.1.13 in /usr/local/lib/python3.10/dist-packages (from llama-index) (0.1.22)\n",
            "Requirement already satisfied: llama-index-multi-modal-llms-openai<0.2.0,>=0.1.3 in /usr/local/lib/python3.10/dist-packages (from llama-index) (0.1.6)\n",
            "Requirement already satisfied: llama-index-program-openai<0.2.0,>=0.1.3 in /usr/local/lib/python3.10/dist-packages (from llama-index) (0.1.6)\n",
            "Requirement already satisfied: llama-index-question-gen-openai<0.2.0,>=0.1.2 in /usr/local/lib/python3.10/dist-packages (from llama-index) (0.1.3)\n",
            "Requirement already satisfied: llama-index-readers-file<0.2.0,>=0.1.4 in /usr/local/lib/python3.10/dist-packages (from llama-index) (0.1.23)\n",
            "Requirement already satisfied: llama-index-readers-llama-parse<0.2.0,>=0.1.2 in /usr/local/lib/python3.10/dist-packages (from llama-index) (0.1.4)\n",
            "Requirement already satisfied: PyYAML>=6.0.1 in /usr/local/lib/python3.10/dist-packages (from llama-index-core==0.10.43->llama-index) (6.0.1)\n",
            "Requirement already satisfied: SQLAlchemy[asyncio]>=1.4.49 in /usr/local/lib/python3.10/dist-packages (from llama-index-core==0.10.43->llama-index) (2.0.30)\n",
            "Requirement already satisfied: aiohttp<4.0.0,>=3.8.6 in /usr/local/lib/python3.10/dist-packages (from llama-index-core==0.10.43->llama-index) (3.9.5)\n",
            "Requirement already satisfied: dataclasses-json in /usr/local/lib/python3.10/dist-packages (from llama-index-core==0.10.43->llama-index) (0.6.7)\n",
            "Requirement already satisfied: deprecated>=1.2.9.3 in /usr/local/lib/python3.10/dist-packages (from llama-index-core==0.10.43->llama-index) (1.2.14)\n",
            "Requirement already satisfied: dirtyjson<2.0.0,>=1.0.8 in /usr/local/lib/python3.10/dist-packages (from llama-index-core==0.10.43->llama-index) (1.0.8)\n",
            "Requirement already satisfied: fsspec>=2023.5.0 in /usr/local/lib/python3.10/dist-packages (from llama-index-core==0.10.43->llama-index) (2023.6.0)\n",
            "Requirement already satisfied: httpx in /usr/local/lib/python3.10/dist-packages (from llama-index-core==0.10.43->llama-index) (0.27.0)\n",
            "Requirement already satisfied: llamaindex-py-client<0.2.0,>=0.1.18 in /usr/local/lib/python3.10/dist-packages (from llama-index-core==0.10.43->llama-index) (0.1.19)\n",
            "Requirement already satisfied: nest-asyncio<2.0.0,>=1.5.8 in /usr/local/lib/python3.10/dist-packages (from llama-index-core==0.10.43->llama-index) (1.6.0)\n",
            "Requirement already satisfied: networkx>=3.0 in /usr/local/lib/python3.10/dist-packages (from llama-index-core==0.10.43->llama-index) (3.3)\n",
            "Requirement already satisfied: nltk<4.0.0,>=3.8.1 in /usr/local/lib/python3.10/dist-packages (from llama-index-core==0.10.43->llama-index) (3.8.1)\n",
            "Requirement already satisfied: numpy in /usr/local/lib/python3.10/dist-packages (from llama-index-core==0.10.43->llama-index) (1.25.2)\n",
            "Requirement already satisfied: openai>=1.1.0 in /usr/local/lib/python3.10/dist-packages (from llama-index-core==0.10.43->llama-index) (1.33.0)\n",
            "Requirement already satisfied: pandas in /usr/local/lib/python3.10/dist-packages (from llama-index-core==0.10.43->llama-index) (2.0.3)\n",
            "Requirement already satisfied: pillow>=9.0.0 in /usr/local/lib/python3.10/dist-packages (from llama-index-core==0.10.43->llama-index) (9.4.0)\n",
            "Requirement already satisfied: requests>=2.31.0 in /usr/local/lib/python3.10/dist-packages (from llama-index-core==0.10.43->llama-index) (2.31.0)\n",
            "Requirement already satisfied: tenacity<9.0.0,>=8.2.0 in /usr/local/lib/python3.10/dist-packages (from llama-index-core==0.10.43->llama-index) (8.3.0)\n",
            "Requirement already satisfied: tiktoken>=0.3.3 in /usr/local/lib/python3.10/dist-packages (from llama-index-core==0.10.43->llama-index) (0.7.0)\n",
            "Requirement already satisfied: tqdm<5.0.0,>=4.66.1 in /usr/local/lib/python3.10/dist-packages (from llama-index-core==0.10.43->llama-index) (4.66.4)\n",
            "Requirement already satisfied: typing-extensions>=4.5.0 in /usr/local/lib/python3.10/dist-packages (from llama-index-core==0.10.43->llama-index) (4.12.1)\n",
            "Requirement already satisfied: typing-inspect>=0.8.0 in /usr/local/lib/python3.10/dist-packages (from llama-index-core==0.10.43->llama-index) (0.9.0)\n",
            "Requirement already satisfied: wrapt in /usr/local/lib/python3.10/dist-packages (from llama-index-core==0.10.43->llama-index) (1.14.1)\n",
            "Requirement already satisfied: beautifulsoup4<5.0.0,>=4.12.3 in /usr/local/lib/python3.10/dist-packages (from llama-index-readers-file<0.2.0,>=0.1.4->llama-index) (4.12.3)\n",
            "Requirement already satisfied: pypdf<5.0.0,>=4.0.1 in /usr/local/lib/python3.10/dist-packages (from llama-index-readers-file<0.2.0,>=0.1.4->llama-index) (4.2.0)\n",
            "Requirement already satisfied: striprtf<0.0.27,>=0.0.26 in /usr/local/lib/python3.10/dist-packages (from llama-index-readers-file<0.2.0,>=0.1.4->llama-index) (0.0.26)\n",
            "Requirement already satisfied: llama-parse<0.5.0,>=0.4.0 in /usr/local/lib/python3.10/dist-packages (from llama-index-readers-llama-parse<0.2.0,>=0.1.2->llama-index) (0.4.4)\n",
            "Requirement already satisfied: aiosignal>=1.1.2 in /usr/local/lib/python3.10/dist-packages (from aiohttp<4.0.0,>=3.8.6->llama-index-core==0.10.43->llama-index) (1.3.1)\n",
            "Requirement already satisfied: attrs>=17.3.0 in /usr/local/lib/python3.10/dist-packages (from aiohttp<4.0.0,>=3.8.6->llama-index-core==0.10.43->llama-index) (23.2.0)\n",
            "Requirement already satisfied: frozenlist>=1.1.1 in /usr/local/lib/python3.10/dist-packages (from aiohttp<4.0.0,>=3.8.6->llama-index-core==0.10.43->llama-index) (1.4.1)\n",
            "Requirement already satisfied: multidict<7.0,>=4.5 in /usr/local/lib/python3.10/dist-packages (from aiohttp<4.0.0,>=3.8.6->llama-index-core==0.10.43->llama-index) (6.0.5)\n",
            "Requirement already satisfied: yarl<2.0,>=1.0 in /usr/local/lib/python3.10/dist-packages (from aiohttp<4.0.0,>=3.8.6->llama-index-core==0.10.43->llama-index) (1.9.4)\n",
            "Requirement already satisfied: async-timeout<5.0,>=4.0 in /usr/local/lib/python3.10/dist-packages (from aiohttp<4.0.0,>=3.8.6->llama-index-core==0.10.43->llama-index) (4.0.3)\n",
            "Requirement already satisfied: soupsieve>1.2 in /usr/local/lib/python3.10/dist-packages (from beautifulsoup4<5.0.0,>=4.12.3->llama-index-readers-file<0.2.0,>=0.1.4->llama-index) (2.5)\n",
            "Requirement already satisfied: pydantic>=1.10 in /usr/local/lib/python3.10/dist-packages (from llamaindex-py-client<0.2.0,>=0.1.18->llama-index-core==0.10.43->llama-index) (2.7.3)\n",
            "Requirement already satisfied: anyio in /usr/local/lib/python3.10/dist-packages (from httpx->llama-index-core==0.10.43->llama-index) (3.7.1)\n",
            "Requirement already satisfied: certifi in /usr/local/lib/python3.10/dist-packages (from httpx->llama-index-core==0.10.43->llama-index) (2024.6.2)\n",
            "Requirement already satisfied: httpcore==1.* in /usr/local/lib/python3.10/dist-packages (from httpx->llama-index-core==0.10.43->llama-index) (1.0.5)\n",
            "Requirement already satisfied: idna in /usr/local/lib/python3.10/dist-packages (from httpx->llama-index-core==0.10.43->llama-index) (3.7)\n",
            "Requirement already satisfied: sniffio in /usr/local/lib/python3.10/dist-packages (from httpx->llama-index-core==0.10.43->llama-index) (1.3.1)\n",
            "Requirement already satisfied: h11<0.15,>=0.13 in /usr/local/lib/python3.10/dist-packages (from httpcore==1.*->httpx->llama-index-core==0.10.43->llama-index) (0.14.0)\n",
            "Requirement already satisfied: click in /usr/local/lib/python3.10/dist-packages (from nltk<4.0.0,>=3.8.1->llama-index-core==0.10.43->llama-index) (8.1.7)\n",
            "Requirement already satisfied: joblib in /usr/local/lib/python3.10/dist-packages (from nltk<4.0.0,>=3.8.1->llama-index-core==0.10.43->llama-index) (1.4.2)\n",
            "Requirement already satisfied: regex>=2021.8.3 in /usr/local/lib/python3.10/dist-packages (from nltk<4.0.0,>=3.8.1->llama-index-core==0.10.43->llama-index) (2024.5.15)\n",
            "Requirement already satisfied: distro<2,>=1.7.0 in /usr/lib/python3/dist-packages (from openai>=1.1.0->llama-index-core==0.10.43->llama-index) (1.7.0)\n",
            "Requirement already satisfied: charset-normalizer<4,>=2 in /usr/local/lib/python3.10/dist-packages (from requests>=2.31.0->llama-index-core==0.10.43->llama-index) (3.3.2)\n",
            "Requirement already satisfied: urllib3<3,>=1.21.1 in /usr/local/lib/python3.10/dist-packages (from requests>=2.31.0->llama-index-core==0.10.43->llama-index) (2.0.7)\n",
            "Requirement already satisfied: greenlet!=0.4.17 in /usr/local/lib/python3.10/dist-packages (from SQLAlchemy[asyncio]>=1.4.49->llama-index-core==0.10.43->llama-index) (3.0.3)\n",
            "Requirement already satisfied: mypy-extensions>=0.3.0 in /usr/local/lib/python3.10/dist-packages (from typing-inspect>=0.8.0->llama-index-core==0.10.43->llama-index) (1.0.0)\n",
            "Requirement already satisfied: marshmallow<4.0.0,>=3.18.0 in /usr/local/lib/python3.10/dist-packages (from dataclasses-json->llama-index-core==0.10.43->llama-index) (3.21.3)\n",
            "Requirement already satisfied: python-dateutil>=2.8.2 in /usr/local/lib/python3.10/dist-packages (from pandas->llama-index-core==0.10.43->llama-index) (2.8.2)\n",
            "Requirement already satisfied: pytz>=2020.1 in /usr/local/lib/python3.10/dist-packages (from pandas->llama-index-core==0.10.43->llama-index) (2023.4)\n",
            "Requirement already satisfied: tzdata>=2022.1 in /usr/local/lib/python3.10/dist-packages (from pandas->llama-index-core==0.10.43->llama-index) (2024.1)\n",
            "Requirement already satisfied: exceptiongroup in /usr/local/lib/python3.10/dist-packages (from anyio->httpx->llama-index-core==0.10.43->llama-index) (1.2.1)\n",
            "Requirement already satisfied: packaging>=17.0 in /usr/local/lib/python3.10/dist-packages (from marshmallow<4.0.0,>=3.18.0->dataclasses-json->llama-index-core==0.10.43->llama-index) (23.2)\n",
            "Requirement already satisfied: annotated-types>=0.4.0 in /usr/local/lib/python3.10/dist-packages (from pydantic>=1.10->llamaindex-py-client<0.2.0,>=0.1.18->llama-index-core==0.10.43->llama-index) (0.7.0)\n",
            "Requirement already satisfied: pydantic-core==2.18.4 in /usr/local/lib/python3.10/dist-packages (from pydantic>=1.10->llamaindex-py-client<0.2.0,>=0.1.18->llama-index-core==0.10.43->llama-index) (2.18.4)\n",
            "Requirement already satisfied: six>=1.5 in /usr/local/lib/python3.10/dist-packages (from python-dateutil>=2.8.2->pandas->llama-index-core==0.10.43->llama-index) (1.16.0)\n"
          ]
        }
      ]
    },
    {
      "cell_type": "code",
      "source": [
        "index=VectorStoreIndex.from_documents(documents,service_context=service_context)"
      ],
      "metadata": {
        "id": "36rGQbLYAc9a"
      },
      "execution_count": null,
      "outputs": []
    },
    {
      "cell_type": "code",
      "source": [
        "index"
      ],
      "metadata": {
        "colab": {
          "base_uri": "https://localhost:8080/"
        },
        "id": "Y3VMeyfTAdnJ",
        "outputId": "c4f66ceb-48a3-44d6-97b7-16d6fd5fd708"
      },
      "execution_count": null,
      "outputs": [
        {
          "output_type": "execute_result",
          "data": {
            "text/plain": [
              "<llama_index.core.indices.vector_store.base.VectorStoreIndex at 0x7a5b81650220>"
            ]
          },
          "metadata": {},
          "execution_count": 16
        }
      ]
    },
    {
      "cell_type": "code",
      "source": [
        "from llama_index.core.retrievers import VectorIndexRetriever\n",
        "\n",
        "def query_with_document_check(query, index, new_query_prompt=\"Please enter a new query: \"):\n",
        "    # Initialize the retriever with the given index\n",
        "    retriever = VectorIndexRetriever(index=index)\n",
        "\n",
        "    # Retrieve relevant nodes (passages) based on the query\n",
        "    retrieved_nodes = retriever.retrieve(query)\n",
        "\n",
        "    # If no relevant nodes are found, return an appropriate message\n",
        "    if not retrieved_nodes:\n",
        "        return \"No relevant information found in the provided documents.\"\n",
        "\n",
        "    # Construct the context from retrieved nodes\n",
        "    context = \"\\n\".join([n.text for n in retrieved_nodes])\n",
        "\n",
        "    # Construct a new query that includes the retrieved context\n",
        "    new_query = f\"\"\"\n",
        "Based on the following context, answer the question strictly using the provided information:\n",
        "\n",
        "Context:\n",
        "{context}\n",
        "\n",
        "Question:\n",
        "{query}\n",
        "\n",
        "If the answer is not in the provided context, state \"The answer is not in the provided documents.\"\n",
        "\"\"\"\n",
        "\n",
        "    # Convert the index to a query engine\n",
        "    query_engine = index.as_query_engine()\n",
        "\n",
        "    # Query the LLM with the context-augmented query\n",
        "    response = query_engine.query(new_query)\n",
        "\n",
        "    # Check if the response indicates lack of relevant information\n",
        "    if \"The answer is not in the provided documents.\" in response.response:\n",
        "        return \"I cannot find relevant information in the provided documents.\"\n",
        "\n",
        "    # Validate response relevance by checking if it includes key terms from the context\n",
        "    context_keywords = [word.lower() for word in context.split() if len(word) > 4]\n",
        "    response_keywords = [word.lower() for word in response.response.split() if len(word) > 4]\n",
        "\n",
        "    common_keywords = set(context_keywords).intersection(set(response_keywords))\n",
        "\n",
        "    if len(common_keywords) < 3:  # Adjust threshold as needed\n",
        "        return \"The response does not seem to be based on the provided documents.\"\n",
        "\n",
        "    return response.response  # Return just the response text\n",
        "\n",
        "# Example usage\n"
      ],
      "metadata": {
        "id": "9A8ZbeOJK-9C"
      },
      "execution_count": null,
      "outputs": []
    },
    {
      "cell_type": "code",
      "source": [
        "query_engine=index.as_query_engine()"
      ],
      "metadata": {
        "id": "rzNZrx_jAf0e"
      },
      "execution_count": null,
      "outputs": []
    },
    {
      "cell_type": "code",
      "source": [
        "response = query_with_document_check(\"what are the umpire signals?\", index)\n",
        "print(response)"
      ],
      "metadata": {
        "colab": {
          "base_uri": "https://localhost:8080/"
        },
        "id": "PQzQ_rsLLSYi",
        "outputId": "7b11893c-cf0d-43c4-b4b7-2157def8a244"
      },
      "execution_count": null,
      "outputs": [
        {
          "output_type": "stream",
          "name": "stderr",
          "text": [
            "/usr/local/lib/python3.10/dist-packages/transformers/generation/configuration_utils.py:515: UserWarning: `do_sample` is set to `False`. However, `temperature` is set to `0.0` -- this flag is only used in sample-based generation modes. You should set `do_sample=True` or unset `temperature`.\n",
            "  warnings.warn(\n",
            "/usr/local/lib/python3.10/dist-packages/transformers/generation/configuration_utils.py:520: UserWarning: `do_sample` is set to `False`. However, `top_p` is set to `0.9` -- this flag is only used in sample-based generation modes. You should set `do_sample=True` or unset `top_p`.\n",
            "  warnings.warn(\n"
          ]
        },
        {
          "output_type": "stream",
          "name": "stdout",
          "text": [
            "The umpire signals are as follows:\n",
            "\n",
            "* No-Ball: The umpire raises his arm with the palm facing downwards.\n",
            "* Wide: The umpire waves his arm sideways.\n",
            "* Leg-bye: The umpire points towards the leg side of the pitch.\n",
            "* Bye: The umpire points towards the batsman.\n",
            "* Six: The umpire raises his arm with the palm facing upwards.\n",
            "* Arm waved: The umpire waves his arm in the air.\n",
            "* Dead Ball: The umpire calls out “Dead Ball”.\n",
            "* Out: The umpire raises his arm with the palm facing downwards and says “Out”.\n",
            "* Short Run: The umpire calls out the number of runs short to be called.\n",
            "\n",
            "The answer is in the provided context.\n"
          ]
        }
      ]
    },
    {
      "cell_type": "code",
      "source": [],
      "metadata": {
        "id": "vBePcDayNnUa"
      },
      "execution_count": null,
      "outputs": []
    }
  ]
}